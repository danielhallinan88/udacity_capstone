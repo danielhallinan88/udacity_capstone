{
 "cells": [
  {
   "cell_type": "code",
   "execution_count": 1,
   "metadata": {},
   "outputs": [
    {
     "name": "stderr",
     "output_type": "stream",
     "text": [
      "Using TensorFlow backend.\n"
     ]
    }
   ],
   "source": [
    "from keras.layers import Conv2D, MaxPooling2D, GlobalAveragePooling2D\n",
    "from keras.layers import Dropout, Flatten, Dense, Activation, Reshape\n",
    "from keras.layers.normalization import BatchNormalization\n",
    "from keras.models import Sequential, load_model\n",
    "from keras.utils  import to_categorical\n",
    "from datetime     import datetime\n",
    "import matplotlib.pyplot as plt\n",
    "import numpy as np\n",
    "import cv2\n",
    "import os"
   ]
  },
  {
   "cell_type": "code",
   "execution_count": 2,
   "metadata": {},
   "outputs": [
    {
     "name": "stdout",
     "output_type": "stream",
     "text": [
      "Features: (73257,)\n",
      "Labels (73257,)\n"
     ]
    }
   ],
   "source": [
    "data_dir = 'numpy_arrays'\n",
    "X  = 'train_digit_features.npy'\n",
    "y  = 'train_digit_labels.npy'\n",
    "\n",
    "train_features = np.load(os.path.join(data_dir, X))\n",
    "train_labels   = np.load(os.path.join(data_dir, y))\n",
    "\n",
    "print(\"Features:\",train_features.shape)\n",
    "print(\"Labels\", train_labels.shape)"
   ]
  },
  {
   "cell_type": "code",
   "execution_count": 3,
   "metadata": {},
   "outputs": [
    {
     "name": "stdout",
     "output_type": "stream",
     "text": [
      "LABEL: 3.0\n",
      "LABEL: 3.0\n",
      "LABEL: 9.0\n"
     ]
    },
    {
     "data": {
      "image/png": "[encoded data removed]",
      "text/plain": [
       "<matplotlib.figure.Figure at 0x7f08782e0b00>"
      ]
     },
     "metadata": {},
     "output_type": "display_data"
    },
    {
     "data": {
      "image/png": "[encoded data removed]",
      "text/plain": [
       "<matplotlib.figure.Figure at 0x7f0875416ef0>"
      ]
     },
     "metadata": {},
     "output_type": "display_data"
    },
    {
     "data": {
      "image/png": "[encoded data removed]",
      "text/plain": [
       "<matplotlib.figure.Figure at 0x7f08765db320>"
      ]
     },
     "metadata": {},
     "output_type": "display_data"
    }
   ],
   "source": [
    "%matplotlib inline\n",
    "\n",
    "def display(feature_array, label_array, num):\n",
    "    print(\"LABEL: {}\".format(label_array[num]))\n",
    "    fig,ax  = plt.subplots(1)\n",
    "    ax.imshow(feature_array[num])\n",
    "\n",
    "display(train_features, train_labels, 3)\n",
    "display(train_features, train_labels, 4000)\n",
    "display(train_features, train_labels, -1)"
   ]
  },
  {
   "cell_type": "code",
   "execution_count": 4,
   "metadata": {},
   "outputs": [
    {
     "name": "stdout",
     "output_type": "stream",
     "text": [
      "ERROR: float division by zero. DIMS: 543 30 0\n",
      "ERROR: float division by zero. DIMS: 1571 108 0\n",
      "ERROR: float division by zero. DIMS: 6875 38 0\n",
      "ERROR: float division by zero. DIMS: 11710 40 0\n",
      "ERROR: float division by zero. DIMS: 15150 69 0\n",
      "ERROR: float division by zero. DIMS: 20600 46 0\n",
      "ERROR: float division by zero. DIMS: 26065 33 0\n",
      "ERROR: float division by zero. DIMS: 28859 32 0\n",
      "ERROR: float division by zero. DIMS: 33178 17 0\n",
      "ERROR: float division by zero. DIMS: 40034 68 0\n",
      "ERROR: float division by zero. DIMS: 40296 30 0\n",
      "ERROR: float division by zero. DIMS: 42428 46 0\n",
      "ERROR: float division by zero. DIMS: 44972 39 0\n",
      "ERROR: float division by zero. DIMS: 45752 49 0\n",
      "ERROR: float division by zero. DIMS: 45780 53 0\n",
      "ERROR: float division by zero. DIMS: 49123 16 0\n",
      "ERROR: float division by zero. DIMS: 52328 46 0\n",
      "ERROR: float division by zero. DIMS: 58190 64 0\n",
      "ERROR: float division by zero. DIMS: 60511 50 0\n",
      "ERROR: float division by zero. DIMS: 60866 54 0\n",
      "ERROR: float division by zero. DIMS: 62449 37 0\n",
      "ERROR: float division by zero. DIMS: 63075 79 0\n",
      "ERROR: float division by zero. DIMS: 63121 34 0\n",
      "ERROR: float division by zero. DIMS: 63190 173 0\n",
      "ERROR: float division by zero. DIMS: 64847 29 1\n",
      "ERROR: float division by zero. DIMS: 65226 32 0\n",
      "ERROR: float division by zero. DIMS: 66885 27 0\n",
      "ERROR: float division by zero. DIMS: 67866 97 0\n",
      "ERROR: float division by zero. DIMS: 70566 83 0\n",
      "ERROR: float division by zero. DIMS: 71125 29 0\n",
      "(73227,)\n",
      "(73227,)\n"
     ]
    }
   ],
   "source": [
    "# Preprocessing features\n",
    "from skimage.transform import resize\n",
    "%matplotlib inline\n",
    "\n",
    "def remove_zero_dims(features, labels):\n",
    "    skimmed_features = []\n",
    "    skimmed_labels   = []\n",
    "    \n",
    "    for i, feature in enumerate(features):\n",
    "        height, width = feature.shape[0], feature.shape[1]\n",
    "        to_height = 25\n",
    "        try:\n",
    "            to_width = to_height * ( (1.0 * width) / height)\n",
    "            tmp = resize(feature, (int(to_height), int(to_width), 3), mode='constant')\n",
    "            skimmed_features.append(feature)\n",
    "            skimmed_labels.append(labels[i])\n",
    "        except Exception as e:\n",
    "            print(\"ERROR: {}. DIMS: {} {} {}\".format(e, i, height, width))\n",
    "\n",
    "    return np.array(skimmed_features), np.array(skimmed_labels)\n",
    "\n",
    "        \n",
    "tmp_features, tmp_labels = remove_zero_dims(train_features, train_labels)\n",
    "print(tmp_features.shape)\n",
    "print(tmp_labels.shape)"
   ]
  },
  {
   "cell_type": "code",
   "execution_count": 5,
   "metadata": {},
   "outputs": [
    {
     "name": "stdout",
     "output_type": "stream",
     "text": [
      "LABEL: 3.0\n",
      "LABEL: 9.0\n",
      "LABEL: 9.0\n"
     ]
    },
    {
     "data": {
      "image/png": "[encoded data removed]",
      "text/plain": [
       "<matplotlib.figure.Figure at 0x7f087641f2e8>"
      ]
     },
     "metadata": {},
     "output_type": "display_data"
    },
    {
     "data": {
      "image/png": "[encoded data removed]",
      "text/plain": [
       "<matplotlib.figure.Figure at 0x7f087a679048>"
      ]
     },
     "metadata": {},
     "output_type": "display_data"
    },
    {
     "data": {
      "image/png": "[encoded data removed]",
      "text/plain": [
       "<matplotlib.figure.Figure at 0x7f0875b53860>"
      ]
     },
     "metadata": {},
     "output_type": "display_data"
    }
   ],
   "source": [
    "display(tmp_features, tmp_labels, 3)\n",
    "display(tmp_features, tmp_labels, 4000)\n",
    "display(tmp_features, tmp_labels, -1)"
   ]
  },
  {
   "cell_type": "code",
   "execution_count": 6,
   "metadata": {},
   "outputs": [
    {
     "name": "stdout",
     "output_type": "stream",
     "text": [
      "(73227, 50, 25, 3)\n",
      "(73227, 32, 32, 3)\n"
     ]
    }
   ],
   "source": [
    "def crop(features, to_height):\n",
    "    #mean_width = np.mean([f.shape[1] for f in features])\n",
    "    #print(\"MEAN WIDTH: {}\".format(mean_width))\n",
    "    \n",
    "    tmp_resized_features = []\n",
    "    for i, feature in enumerate(features):\n",
    "        #print(feature.shape)\n",
    "        height, width = feature.shape[0], feature.shape[1]\n",
    "\n",
    "        to_width = to_height * ( (1.0 * width) / height)\n",
    "        #tmp = resize(feature, (int(to_height), int(to_width), 3), mode='constant')\n",
    "        tmp = resize(feature, (50, 25, 3), mode='constant')\n",
    "        #print(tmp.shape)\n",
    "        tmp_resized_features.append(tmp)\n",
    "        \n",
    "    return np.array(tmp_resized_features)\n",
    "\n",
    "def resize_32x32(features):\n",
    "    return np.array([resize(f, (32, 32, 3), mode='constant') for f in features])\n",
    "\n",
    "def resize_64x64(features):\n",
    "    return np.array([resize(f, (64, 64, 3), mode='constant') for f in features])\n",
    "\n",
    "cropped_images = crop(tmp_features, 50)\n",
    "resized_images = resize_32x32(tmp_features)\n",
    "print(cropped_images.shape)\n",
    "print(resized_images.shape)"
   ]
  },
  {
   "cell_type": "code",
   "execution_count": 7,
   "metadata": {},
   "outputs": [
    {
     "name": "stdout",
     "output_type": "stream",
     "text": [
      "LABEL: 3.0\n",
      "LABEL: 9.0\n",
      "LABEL: 9.0\n",
      "LABEL: 3.0\n",
      "LABEL: 9.0\n",
      "LABEL: 9.0\n"
     ]
    },
    {
     "data": {
      "image/png": "[encoded data removed]",
      "text/plain": [
       "<matplotlib.figure.Figure at 0x7f0875a761d0>"
      ]
     },
     "metadata": {},
     "output_type": "display_data"
    },
    {
     "data": {
      "image/png": "[encoded data removed]",
      "text/plain": [
       "<matplotlib.figure.Figure at 0x7f0875a76a20>"
      ]
     },
     "metadata": {},
     "output_type": "display_data"
    },
    {
     "data": {
      "image/png": "[encoded data removed]",
      "text/plain": [
       "<matplotlib.figure.Figure at 0x7f0875a84550>"
      ]
     },
     "metadata": {},
     "output_type": "display_data"
    },
    {
     "data": {
      "image/png": "[encoded data removed]",
      "text/plain": [
       "<matplotlib.figure.Figure at 0x7f08759cbef0>"
      ]
     },
     "metadata": {},
     "output_type": "display_data"
    },
    {
     "data": {
      "image/png": "[encoded data removed]",
      "text/plain": [
       "<matplotlib.figure.Figure at 0x7f0875966e10>"
      ]
     },
     "metadata": {},
     "output_type": "display_data"
    },
    {
     "data": {
      "image/png": "[encoded data removed]",
      "text/plain": [
       "<matplotlib.figure.Figure at 0x7f08759118d0>"
      ]
     },
     "metadata": {},
     "output_type": "display_data"
    }
   ],
   "source": [
    "display(cropped_images, tmp_labels, 3)\n",
    "display(cropped_images, tmp_labels, 4000)\n",
    "display(cropped_images, tmp_labels, -1)\n",
    "\n",
    "display(resized_images, tmp_labels, 3)\n",
    "display(resized_images, tmp_labels, 4000)\n",
    "display(resized_images, tmp_labels, -1)"
   ]
  },
  {
   "cell_type": "code",
   "execution_count": 8,
   "metadata": {},
   "outputs": [
    {
     "name": "stdout",
     "output_type": "stream",
     "text": [
      "LABEL: 6.0\n"
     ]
    },
    {
     "data": {
      "text/plain": [
       "array([ 0.,  0.,  0.,  0.,  0.,  0.,  1.,  0.,  0.,  0.])"
      ]
     },
     "execution_count": 8,
     "metadata": {},
     "output_type": "execute_result"
    },
    {
     "data": {
      "image/png": "[encoded data removed]",
      "text/plain": [
       "<matplotlib.figure.Figure at 0x7f087a6790b8>"
      ]
     },
     "metadata": {},
     "output_type": "display_data"
    }
   ],
   "source": [
    "# Preprocessing targets\n",
    "\n",
    "# Removing labels that are not 0 - 9.\n",
    "tmp_labels[tmp_labels == 10.0] = 0.0\n",
    "\n",
    "# One hot encoding\n",
    "encoded_labels = to_categorical(tmp_labels)\n",
    "\n",
    "pic = 7000\n",
    "display(cropped_images, tmp_labels, pic)\n",
    "encoded_labels[pic]"
   ]
  },
  {
   "cell_type": "code",
   "execution_count": 9,
   "metadata": {},
   "outputs": [],
   "source": [
    "# Models\n",
    "\n",
    "def dense_model(in_shape):\n",
    "    model = Sequential()\n",
    "    model.add(Dense(32, input_shape=in_shape))\n",
    "    model.add(Activation('relu'))\n",
    "    model.add(Dense(32))\n",
    "    model.add(Activation('relu'))\n",
    "    model.add(Dense(8))\n",
    "    model.add(Activation('relu'))\n",
    "    model.add(Flatten())\n",
    "    model.add(Dense(10, activation='softmax'))\n",
    "    model.summary()\n",
    "    return model\n",
    "\n",
    "def pooling_model(in_shape):\n",
    "    model = Sequential()\n",
    "    model.add(Conv2D(filters=16, kernel_size=2, padding='same', activation='relu', input_shape=in_shape))\n",
    "    model.add(MaxPooling2D(pool_size=2))\n",
    "    model.add(Conv2D(filters=32, kernel_size=2, padding='same', activation='relu'))\n",
    "    model.add(MaxPooling2D(pool_size=2))\n",
    "    model.add(Dropout(0.2))\n",
    "    model.add(Conv2D(filters=64, kernel_size=2, padding='same', activation='relu'))\n",
    "    model.add(MaxPooling2D(pool_size=2))\n",
    "    model.add(GlobalAveragePooling2D())\n",
    "    model.add(Dropout(0.2))\n",
    "    model.add(Dense(10, activation='softmax'))\n",
    "    model.summary()\n",
    "    return model\n",
    "\n",
    "def thick_model(in_shape):\n",
    "    model = Sequential()\n",
    "    model.add(Conv2D(filters=48, kernel_size=2, padding='same', activation='relu', input_shape=in_shape))\n",
    "    model.add(MaxPooling2D(pool_size=2))\n",
    "    model.add(BatchNormalization())\n",
    "    model.add(Conv2D(filters=64, kernel_size=2, padding='same', activation='relu'))\n",
    "    model.add(MaxPooling2D(pool_size=2))\n",
    "    model.add(BatchNormalization())\n",
    "    model.add(Conv2D(filters=128, kernel_size=2, padding='same', activation='relu'))\n",
    "    model.add(MaxPooling2D(pool_size=2))\n",
    "    model.add(BatchNormalization())\n",
    "    model.add(Conv2D(filters=160, kernel_size=2, padding='same', activation='relu'))\n",
    "    model.add(MaxPooling2D(pool_size=2))\n",
    "    model.add(BatchNormalization())\n",
    "\n",
    "    model.add(GlobalAveragePooling2D())\n",
    "    model.add(Dense(512, activation='relu'))\n",
    "    model.add(Dense(10, activation='softmax'))\n",
    "    model.summary()\n",
    "    return model\n"
   ]
  },
  {
   "cell_type": "code",
   "execution_count": 10,
   "metadata": {},
   "outputs": [
    {
     "name": "stdout",
     "output_type": "stream",
     "text": [
      "_________________________________________________________________\n",
      "Layer (type)                 Output Shape              Param #   \n",
      "=================================================================\n",
      "conv2d_1 (Conv2D)            (None, 32, 32, 48)        624       \n",
      "_________________________________________________________________\n",
      "max_pooling2d_1 (MaxPooling2 (None, 16, 16, 48)        0         \n",
      "_________________________________________________________________\n",
      "batch_normalization_1 (Batch (None, 16, 16, 48)        192       \n",
      "_________________________________________________________________\n",
      "conv2d_2 (Conv2D)            (None, 16, 16, 64)        12352     \n",
      "_________________________________________________________________\n",
      "max_pooling2d_2 (MaxPooling2 (None, 8, 8, 64)          0         \n",
      "_________________________________________________________________\n",
      "batch_normalization_2 (Batch (None, 8, 8, 64)          256       \n",
      "_________________________________________________________________\n",
      "conv2d_3 (Conv2D)            (None, 8, 8, 128)         32896     \n",
      "_________________________________________________________________\n",
      "max_pooling2d_3 (MaxPooling2 (None, 4, 4, 128)         0         \n",
      "_________________________________________________________________\n",
      "batch_normalization_3 (Batch (None, 4, 4, 128)         512       \n",
      "_________________________________________________________________\n",
      "conv2d_4 (Conv2D)            (None, 4, 4, 160)         82080     \n",
      "_________________________________________________________________\n",
      "max_pooling2d_4 (MaxPooling2 (None, 2, 2, 160)         0         \n",
      "_________________________________________________________________\n",
      "batch_normalization_4 (Batch (None, 2, 2, 160)         640       \n",
      "_________________________________________________________________\n",
      "global_average_pooling2d_1 ( (None, 160)               0         \n",
      "_________________________________________________________________\n",
      "dense_1 (Dense)              (None, 512)               82432     \n",
      "_________________________________________________________________\n",
      "dense_2 (Dense)              (None, 10)                5130      \n",
      "=================================================================\n",
      "Total params: 217,114.0\n",
      "Trainable params: 216,314.0\n",
      "Non-trainable params: 800.0\n",
      "_________________________________________________________________\n",
      "(73227, 32, 32, 3)\n",
      "(73227, 10)\n"
     ]
    }
   ],
   "source": [
    "features = resized_images\n",
    "targets  = encoded_labels\n",
    "model    = thick_model(features.shape[1:])\n",
    "\n",
    "print(features.shape)\n",
    "print(targets.shape)"
   ]
  },
  {
   "cell_type": "code",
   "execution_count": 11,
   "metadata": {},
   "outputs": [],
   "source": [
    "model.compile(optimizer='rmsprop', loss='categorical_crossentropy', metrics=['accuracy'])"
   ]
  },
  {
   "cell_type": "code",
   "execution_count": 12,
   "metadata": {},
   "outputs": [
    {
     "name": "stdout",
     "output_type": "stream",
     "text": [
      "MODEL FILE: models/model_digits_50epochs_20190625_004217.hdf5\n",
      "Epoch 1/50\n",
      "73220/73227 [============================>.] - ETA: 0s - loss: 0.6562 - acc: 0.7918Epoch 00000: acc improved from -inf to 0.79178, saving model to models/model_digits_50epochs_20190625_004217.hdf5\n",
      "73227/73227 [==============================] - 262s - loss: 0.6561 - acc: 0.7918   \n",
      "Epoch 2/50\n",
      "73220/73227 [============================>.] - ETA: 0s - loss: 0.3943 - acc: 0.8808Epoch 00001: acc improved from 0.79178 to 0.88077, saving model to models/model_digits_50epochs_20190625_004217.hdf5\n",
      "73227/73227 [==============================] - 261s - loss: 0.3942 - acc: 0.8808   \n",
      "Epoch 3/50\n",
      "73220/73227 [============================>.] - ETA: 0s - loss: 0.3413 - acc: 0.8996Epoch 00002: acc improved from 0.88077 to 0.89964, saving model to models/model_digits_50epochs_20190625_004217.hdf5\n",
      "73227/73227 [==============================] - 260s - loss: 0.3413 - acc: 0.8996   \n",
      "Epoch 4/50\n",
      "73220/73227 [============================>.] - ETA: 0s - loss: 0.3128 - acc: 0.9091Epoch 00003: acc improved from 0.89964 to 0.90909, saving model to models/model_digits_50epochs_20190625_004217.hdf5\n",
      "73227/73227 [==============================] - 310s - loss: 0.3128 - acc: 0.9091   \n",
      "Epoch 5/50\n",
      "73220/73227 [============================>.] - ETA: 0s - loss: 0.2877 - acc: 0.9167Epoch 00004: acc improved from 0.90909 to 0.91670, saving model to models/model_digits_50epochs_20190625_004217.hdf5\n",
      "73227/73227 [==============================] - 265s - loss: 0.2879 - acc: 0.9167   \n",
      "Epoch 6/50\n",
      "73220/73227 [============================>.] - ETA: 0s - loss: 0.2725 - acc: 0.9218Epoch 00005: acc improved from 0.91670 to 0.92179, saving model to models/model_digits_50epochs_20190625_004217.hdf5\n",
      "73227/73227 [==============================] - 259s - loss: 0.2725 - acc: 0.9218   \n",
      "Epoch 7/50\n",
      "73220/73227 [============================>.] - ETA: 0s - loss: 0.2578 - acc: 0.9254Epoch 00006: acc improved from 0.92179 to 0.92537, saving model to models/model_digits_50epochs_20190625_004217.hdf5\n",
      "73227/73227 [==============================] - 259s - loss: 0.2579 - acc: 0.9254   \n",
      "Epoch 8/50\n",
      "73220/73227 [============================>.] - ETA: 0s - loss: 0.2465 - acc: 0.9298Epoch 00007: acc improved from 0.92537 to 0.92978, saving model to models/model_digits_50epochs_20190625_004217.hdf5\n",
      "73227/73227 [==============================] - 259s - loss: 0.2465 - acc: 0.9298   \n",
      "Epoch 9/50\n",
      "73220/73227 [============================>.] - ETA: 0s - loss: 0.2351 - acc: 0.9324Epoch 00008: acc improved from 0.92978 to 0.93239, saving model to models/model_digits_50epochs_20190625_004217.hdf5\n",
      "73227/73227 [==============================] - 298s - loss: 0.2351 - acc: 0.9324   \n",
      "Epoch 10/50\n",
      "73220/73227 [============================>.] - ETA: 0s - loss: 0.2276 - acc: 0.9345Epoch 00009: acc improved from 0.93239 to 0.93453, saving model to models/model_digits_50epochs_20190625_004217.hdf5\n",
      "73227/73227 [==============================] - 259s - loss: 0.2276 - acc: 0.9345   \n",
      "Epoch 11/50\n",
      "73220/73227 [============================>.] - ETA: 0s - loss: 0.2197 - acc: 0.9384Epoch 00010: acc improved from 0.93453 to 0.93836, saving model to models/model_digits_50epochs_20190625_004217.hdf5\n",
      "73227/73227 [==============================] - 258s - loss: 0.2196 - acc: 0.9384   \n",
      "Epoch 12/50\n",
      "73220/73227 [============================>.] - ETA: 0s - loss: 0.2123 - acc: 0.9391Epoch 00011: acc improved from 0.93836 to 0.93913, saving model to models/model_digits_50epochs_20190625_004217.hdf5\n",
      "73227/73227 [==============================] - 286s - loss: 0.2123 - acc: 0.9391   \n",
      "Epoch 13/50\n",
      "73220/73227 [============================>.] - ETA: 0s - loss: 0.2037 - acc: 0.9419Epoch 00012: acc improved from 0.93913 to 0.94192, saving model to models/model_digits_50epochs_20190625_004217.hdf5\n",
      "73227/73227 [==============================] - 380s - loss: 0.2036 - acc: 0.9419   \n",
      "Epoch 14/50\n",
      "73220/73227 [============================>.] - ETA: 0s - loss: 0.1960 - acc: 0.9444Epoch 00013: acc improved from 0.94192 to 0.94439, saving model to models/model_digits_50epochs_20190625_004217.hdf5\n",
      "73227/73227 [==============================] - 260s - loss: 0.1960 - acc: 0.9444   \n",
      "Epoch 15/50\n",
      "73220/73227 [============================>.] - ETA: 0s - loss: 0.1934 - acc: 0.9446Epoch 00014: acc improved from 0.94439 to 0.94465, saving model to models/model_digits_50epochs_20190625_004217.hdf5\n",
      "73227/73227 [==============================] - 260s - loss: 0.1934 - acc: 0.9447   \n",
      "Epoch 16/50\n",
      "73220/73227 [============================>.] - ETA: 0s - loss: 0.1885 - acc: 0.9458Epoch 00015: acc improved from 0.94465 to 0.94576, saving model to models/model_digits_50epochs_20190625_004217.hdf5\n",
      "73227/73227 [==============================] - 296s - loss: 0.1885 - acc: 0.9458   \n",
      "Epoch 17/50\n",
      "73220/73227 [============================>.] - ETA: 0s - loss: 0.1798 - acc: 0.9494Epoch 00016: acc improved from 0.94576 to 0.94942, saving model to models/model_digits_50epochs_20190625_004217.hdf5\n",
      "73227/73227 [==============================] - 470s - loss: 0.1798 - acc: 0.9494   \n",
      "Epoch 18/50\n",
      "73220/73227 [============================>.] - ETA: 0s - loss: 0.1753 - acc: 0.9514Epoch 00017: acc improved from 0.94942 to 0.95137, saving model to models/model_digits_50epochs_20190625_004217.hdf5\n",
      "73227/73227 [==============================] - 314s - loss: 0.1753 - acc: 0.9514   \n",
      "Epoch 19/50\n",
      "73220/73227 [============================>.] - ETA: 0s - loss: 0.1714 - acc: 0.9527Epoch 00018: acc improved from 0.95137 to 0.95271, saving model to models/model_digits_50epochs_20190625_004217.hdf5\n",
      "73227/73227 [==============================] - 262s - loss: 0.1713 - acc: 0.9527   \n",
      "Epoch 20/50\n",
      "73220/73227 [============================>.] - ETA: 0s - loss: 0.1673 - acc: 0.9530Epoch 00019: acc improved from 0.95271 to 0.95300, saving model to models/model_digits_50epochs_20190625_004217.hdf5\n",
      "73227/73227 [==============================] - 264s - loss: 0.1673 - acc: 0.9530   \n",
      "Epoch 21/50\n",
      "73220/73227 [============================>.] - ETA: 0s - loss: 0.1668 - acc: 0.9542Epoch 00020: acc improved from 0.95300 to 0.95425, saving model to models/model_digits_50epochs_20190625_004217.hdf5\n",
      "73227/73227 [==============================] - 261s - loss: 0.1668 - acc: 0.9543   \n",
      "Epoch 22/50\n",
      "73220/73227 [============================>.] - ETA: 0s - loss: 0.1614 - acc: 0.9566Epoch 00021: acc improved from 0.95425 to 0.95656, saving model to models/model_digits_50epochs_20190625_004217.hdf5\n",
      "73227/73227 [==============================] - 260s - loss: 0.1614 - acc: 0.9566   \n",
      "Epoch 23/50\n",
      "73220/73227 [============================>.] - ETA: 0s - loss: 0.1585 - acc: 0.9563Epoch 00022: acc did not improve\n",
      "73227/73227 [==============================] - 297s - loss: 0.1585 - acc: 0.9563   \n",
      "Epoch 24/50\n",
      "73220/73227 [============================>.] - ETA: 0s - loss: 0.1547 - acc: 0.9581Epoch 00023: acc improved from 0.95656 to 0.95812, saving model to models/model_digits_50epochs_20190625_004217.hdf5\n",
      "73227/73227 [==============================] - 297s - loss: 0.1548 - acc: 0.9581   \n",
      "Epoch 25/50\n",
      "73220/73227 [============================>.] - ETA: 0s - loss: 0.1523 - acc: 0.9597Epoch 00024: acc improved from 0.95812 to 0.95966, saving model to models/model_digits_50epochs_20190625_004217.hdf5\n",
      "73227/73227 [==============================] - 459s - loss: 0.1523 - acc: 0.9597   \n",
      "Epoch 26/50\n",
      "73220/73227 [============================>.] - ETA: 0s - loss: 0.1571 - acc: 0.9593Epoch 00025: acc did not improve\n",
      "73227/73227 [==============================] - 484s - loss: 0.1571 - acc: 0.9593   \n",
      "Epoch 27/50\n",
      "73220/73227 [============================>.] - ETA: 0s - loss: 0.1549 - acc: 0.9585Epoch 00026: acc did not improve\n",
      "73227/73227 [==============================] - 485s - loss: 0.1549 - acc: 0.9585   \n",
      "Epoch 28/50\n",
      "73220/73227 [============================>.] - ETA: 0s - loss: 0.1518 - acc: 0.9603Epoch 00027: acc improved from 0.95966 to 0.96026, saving model to models/model_digits_50epochs_20190625_004217.hdf5\n",
      "73227/73227 [==============================] - 484s - loss: 0.1518 - acc: 0.9603   \n",
      "Epoch 29/50\n",
      "73220/73227 [============================>.] - ETA: 0s - loss: 0.1518 - acc: 0.9607Epoch 00028: acc improved from 0.96026 to 0.96066, saving model to models/model_digits_50epochs_20190625_004217.hdf5\n"
     ]
    },
    {
     "name": "stdout",
     "output_type": "stream",
     "text": [
      "73227/73227 [==============================] - 486s - loss: 0.1518 - acc: 0.9607   \n",
      "Epoch 30/50\n",
      "73220/73227 [============================>.] - ETA: 0s - loss: 0.1509 - acc: 0.9615Epoch 00029: acc improved from 0.96066 to 0.96145, saving model to models/model_digits_50epochs_20190625_004217.hdf5\n",
      "73227/73227 [==============================] - 484s - loss: 0.1511 - acc: 0.9614   \n",
      "Epoch 31/50\n",
      "73220/73227 [============================>.] - ETA: 0s - loss: 0.1471 - acc: 0.9617Epoch 00030: acc improved from 0.96145 to 0.96172, saving model to models/model_digits_50epochs_20190625_004217.hdf5\n",
      "73227/73227 [==============================] - 484s - loss: 0.1471 - acc: 0.9617   \n",
      "Epoch 32/50\n",
      "73220/73227 [============================>.] - ETA: 0s - loss: 0.1445 - acc: 0.9631Epoch 00031: acc improved from 0.96172 to 0.96313, saving model to models/model_digits_50epochs_20190625_004217.hdf5\n",
      "73227/73227 [==============================] - 485s - loss: 0.1445 - acc: 0.9631   \n",
      "Epoch 33/50\n",
      "73220/73227 [============================>.] - ETA: 0s - loss: 0.1434 - acc: 0.9629Epoch 00032: acc did not improve\n",
      "73227/73227 [==============================] - 484s - loss: 0.1434 - acc: 0.9629   \n",
      "Epoch 34/50\n",
      "73220/73227 [============================>.] - ETA: 0s - loss: 0.1470 - acc: 0.9629Epoch 00033: acc did not improve\n",
      "73227/73227 [==============================] - 484s - loss: 0.1470 - acc: 0.9630   \n",
      "Epoch 35/50\n",
      "73220/73227 [============================>.] - ETA: 0s - loss: 0.1399 - acc: 0.9647Epoch 00034: acc improved from 0.96313 to 0.96464, saving model to models/model_digits_50epochs_20190625_004217.hdf5\n",
      "73227/73227 [==============================] - 483s - loss: 0.1399 - acc: 0.9646   \n",
      "Epoch 36/50\n",
      "73220/73227 [============================>.] - ETA: 0s - loss: 0.1423 - acc: 0.9641Epoch 00035: acc did not improve\n",
      "73227/73227 [==============================] - 485s - loss: 0.1423 - acc: 0.9641   \n",
      "Epoch 37/50\n",
      "73220/73227 [============================>.] - ETA: 0s - loss: 0.1432 - acc: 0.9650Epoch 00036: acc improved from 0.96464 to 0.96503, saving model to models/model_digits_50epochs_20190625_004217.hdf5\n",
      "73227/73227 [==============================] - 484s - loss: 0.1432 - acc: 0.9650   \n",
      "Epoch 38/50\n",
      "73220/73227 [============================>.] - ETA: 0s - loss: 0.1407 - acc: 0.9656Epoch 00037: acc improved from 0.96503 to 0.96561, saving model to models/model_digits_50epochs_20190625_004217.hdf5\n",
      "73227/73227 [==============================] - 485s - loss: 0.1408 - acc: 0.9656   \n",
      "Epoch 39/50\n",
      "73220/73227 [============================>.] - ETA: 0s - loss: 0.1371 - acc: 0.9670Epoch 00038: acc improved from 0.96561 to 0.96697, saving model to models/model_digits_50epochs_20190625_004217.hdf5\n",
      "73227/73227 [==============================] - 483s - loss: 0.1371 - acc: 0.9670   \n",
      "Epoch 40/50\n",
      "73220/73227 [============================>.] - ETA: 0s - loss: 0.1399 - acc: 0.9679Epoch 00039: acc improved from 0.96697 to 0.96785, saving model to models/model_digits_50epochs_20190625_004217.hdf5\n",
      "73227/73227 [==============================] - 478s - loss: 0.1399 - acc: 0.9679   \n",
      "Epoch 41/50\n",
      "73220/73227 [============================>.] - ETA: 0s - loss: 0.1333 - acc: 0.9674Epoch 00040: acc did not improve\n",
      "73227/73227 [==============================] - 259s - loss: 0.1333 - acc: 0.9674   \n",
      "Epoch 42/50\n",
      "73220/73227 [============================>.] - ETA: 0s - loss: 0.1370 - acc: 0.9665Epoch 00041: acc did not improve\n",
      "73227/73227 [==============================] - 258s - loss: 0.1370 - acc: 0.9665   \n",
      "Epoch 43/50\n",
      "73220/73227 [============================>.] - ETA: 0s - loss: 0.1395 - acc: 0.9673Epoch 00042: acc did not improve\n",
      "73227/73227 [==============================] - 335s - loss: 0.1395 - acc: 0.9673   \n",
      "Epoch 44/50\n",
      "73220/73227 [============================>.] - ETA: 0s - loss: 0.1344 - acc: 0.9686Epoch 00043: acc improved from 0.96785 to 0.96859, saving model to models/model_digits_50epochs_20190625_004217.hdf5\n",
      "73227/73227 [==============================] - 260s - loss: 0.1344 - acc: 0.9686   \n",
      "Epoch 45/50\n",
      "73220/73227 [============================>.] - ETA: 0s - loss: 0.1356 - acc: 0.9685Epoch 00044: acc did not improve\n",
      "73227/73227 [==============================] - 262s - loss: 0.1356 - acc: 0.9685   \n",
      "Epoch 46/50\n",
      "73220/73227 [============================>.] - ETA: 0s - loss: 0.1348 - acc: 0.9688Epoch 00045: acc improved from 0.96859 to 0.96875, saving model to models/model_digits_50epochs_20190625_004217.hdf5\n",
      "73227/73227 [==============================] - 263s - loss: 0.1348 - acc: 0.9688   \n",
      "Epoch 47/50\n",
      "73220/73227 [============================>.] - ETA: 0s - loss: 0.1282 - acc: 0.9702Epoch 00046: acc improved from 0.96875 to 0.97016, saving model to models/model_digits_50epochs_20190625_004217.hdf5\n",
      "73227/73227 [==============================] - 259s - loss: 0.1282 - acc: 0.9702   \n",
      "Epoch 48/50\n",
      "73220/73227 [============================>.] - ETA: 0s - loss: 0.1298 - acc: 0.9701Epoch 00047: acc did not improve\n",
      "73227/73227 [==============================] - 258s - loss: 0.1298 - acc: 0.9701   \n",
      "Epoch 49/50\n",
      "73220/73227 [============================>.] - ETA: 0s - loss: 0.1332 - acc: 0.9699Epoch 00048: acc did not improve\n",
      "73227/73227 [==============================] - 258s - loss: 0.1332 - acc: 0.9699   \n",
      "Epoch 50/50\n",
      "73220/73227 [============================>.] - ETA: 0s - loss: 0.1275 - acc: 0.9712Epoch 00049: acc improved from 0.97016 to 0.97119, saving model to models/model_digits_50epochs_20190625_004217.hdf5\n",
      "73227/73227 [==============================] - 258s - loss: 0.1275 - acc: 0.9712   \n",
      "TIME: 17269.57267856598\n"
     ]
    }
   ],
   "source": [
    "from keras.callbacks import ModelCheckpoint\n",
    "from time import time\n",
    "\n",
    "start      = time()\n",
    "epochs     = 50\n",
    "time_now   = datetime.now().strftime(\"%Y%m%d_%H%M%S\")\n",
    "model_path = os.path.join('models', 'model_digits_' + str(epochs) + 'epochs_' + time_now +'.hdf5')\n",
    "\n",
    "print(\"MODEL FILE: {}\".format(model_path))\n",
    "\n",
    "checkpointer = ModelCheckpoint(filepath=model_path, \n",
    "                               verbose=1, save_best_only=True, monitor='acc',)\n",
    "\n",
    "model.fit(features, targets\n",
    "          , epochs=epochs, batch_size=20, callbacks=[checkpointer], verbose=1)\n",
    "\n",
    "print(\"TIME: {}\".format(time() - start))"
   ]
  },
  {
   "cell_type": "code",
   "execution_count": 18,
   "metadata": {},
   "outputs": [
    {
     "name": "stdout",
     "output_type": "stream",
     "text": [
      "[ 1.  9.  2.]\n",
      "LABEL: 1.0\n",
      "LABEL: 9.0\n",
      "LABEL: 2.0\n"
     ]
    },
    {
     "data": {
      "image/png": "[encoded data removed]",
      "text/plain": [
       "<matplotlib.figure.Figure at 0x7f0874892eb8>"
      ]
     },
     "metadata": {},
     "output_type": "display_data"
    },
    {
     "data": {
      "image/png": "[encoded data removed]",
      "text/plain": [
       "<matplotlib.figure.Figure at 0x7f0760c207b8>"
      ]
     },
     "metadata": {},
     "output_type": "display_data"
    },
    {
     "data": {
      "image/png": "[encoded data removed]",
      "text/plain": [
       "<matplotlib.figure.Figure at 0x7f087472b4a8>"
      ]
     },
     "metadata": {},
     "output_type": "display_data"
    }
   ],
   "source": [
    "def predict(array_set):\n",
    "    y_pred      = model.predict(array_set)\n",
    "    return np.array([np.argmax(pred) * 1.0 for pred in y_pred])\n",
    "\n",
    "samples = 3\n",
    "print(predict(resized_images[:samples]))\n",
    "\n",
    "for i in range(samples):\n",
    "    display(resized_images, tmp_labels, i)"
   ]
  },
  {
   "cell_type": "code",
   "execution_count": 19,
   "metadata": {},
   "outputs": [
    {
     "name": "stdout",
     "output_type": "stream",
     "text": [
      "(26032,)\n",
      "(26032,)\n"
     ]
    }
   ],
   "source": [
    "# TESTING\n",
    "X  = 'test_digit_features.npy'\n",
    "y  = 'test_digit_labels.npy'\n",
    "\n",
    "test_features = np.load(os.path.join(data_dir, X))\n",
    "test_labels   = np.load(os.path.join(data_dir, y))\n",
    "\n",
    "print(test_features.shape)\n",
    "print(test_labels.shape)"
   ]
  },
  {
   "cell_type": "code",
   "execution_count": 20,
   "metadata": {},
   "outputs": [
    {
     "name": "stdout",
     "output_type": "stream",
     "text": [
      "ERROR: float division by zero. DIMS: 662 18 0\n",
      "ERROR: float division by zero. DIMS: 842 60 0\n",
      "ERROR: float division by zero. DIMS: 1017 52 0\n",
      "ERROR: float division by zero. DIMS: 5186 71 0\n",
      "ERROR: float division by zero. DIMS: 10451 16 0\n",
      "ERROR: float division by zero. DIMS: 15199 36 0\n",
      "ERROR: float division by zero. DIMS: 17710 21 0\n",
      "ERROR: float division by zero. DIMS: 24752 60 0\n"
     ]
    }
   ],
   "source": [
    "tmp_test_features, tmp_test_labels = remove_zero_dims(test_features, test_labels)\n",
    "#test_cropped = crop(tmp_test_features, 50)\n",
    "test_resized = resize_32x32(tmp_test_features)"
   ]
  },
  {
   "cell_type": "code",
   "execution_count": 21,
   "metadata": {},
   "outputs": [],
   "source": [
    "#test_predictions = predict(test_cropped)\n",
    "test_predictions = predict(test_resized)"
   ]
  },
  {
   "cell_type": "code",
   "execution_count": 22,
   "metadata": {},
   "outputs": [
    {
     "name": "stdout",
     "output_type": "stream",
     "text": [
      "Accuracy: 83.66507838917921\n"
     ]
    }
   ],
   "source": [
    "def get_accuracy(pred, test):\n",
    "    correct = 0\n",
    "    for i in range(len(pred)):\n",
    "        if pred[i] == test[i]:\n",
    "            correct += 1\n",
    "            \n",
    "    return (correct*1.0) / len(pred)\n",
    "\n",
    "accuracy = get_accuracy(test_predictions, tmp_test_labels)\n",
    "print(\"Accuracy: {}\".format(accuracy*100))"
   ]
  },
  {
   "cell_type": "code",
   "execution_count": null,
   "metadata": {},
   "outputs": [],
   "source": []
  }
 ],
 "metadata": {
  "kernelspec": {
   "display_name": "Python 3",
   "language": "python",
   "name": "python3"
  },
  "language_info": {
   "codemirror_mode": {
    "name": "ipython",
    "version": 3
   },
   "file_extension": ".py",
   "mimetype": "text/x-python",
   "name": "python",
   "nbconvert_exporter": "python",
   "pygments_lexer": "ipython3",
   "version": "3.5.2"
  }
 },
 "nbformat": 4,
 "nbformat_minor": 2
}
