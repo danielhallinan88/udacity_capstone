{
 "cells": [
  {
   "cell_type": "code",
   "execution_count": 1,
   "metadata": {},
   "outputs": [
    {
     "name": "stderr",
     "output_type": "stream",
     "text": [
      "Using TensorFlow backend.\n"
     ]
    }
   ],
   "source": [
    "from keras.layers import Conv2D, MaxPooling2D, GlobalAveragePooling2D\n",
    "from keras.layers import Dropout, Flatten, Dense, Activation, Reshape, Input\n",
    "from keras.layers.normalization import BatchNormalization\n",
    "from keras.models import Sequential, load_model\n",
    "from keras.utils  import to_categorical\n",
    "from datetime     import datetime\n",
    "import matplotlib.pyplot as plt\n",
    "import numpy as np\n",
    "import cv2\n",
    "import os"
   ]
  },
  {
   "cell_type": "code",
   "execution_count": 2,
   "metadata": {},
   "outputs": [],
   "source": [
    "data_dir = 'numpy_arrays'\n",
    "X  = 'train_digit_features.npy'\n",
    "y  = 'train_digit_labels.npy'\n",
    "\n",
    "train_features = np.load(os.path.join(data_dir, X))\n",
    "train_labels   = np.load(os.path.join(data_dir, y))\n",
    "\n",
    "X  = 'test_digit_features.npy'\n",
    "y  = 'test_digit_labels.npy'\n",
    "\n",
    "test_features = np.load(os.path.join(data_dir, X))\n",
    "test_labels   = np.load(os.path.join(data_dir, y))\n",
    "\n",
    "#print(\"Features:\",train_features.shape)\n",
    "#print(\"Labels\", train_labels.shape)"
   ]
  },
  {
   "cell_type": "code",
   "execution_count": 3,
   "metadata": {},
   "outputs": [
    {
     "name": "stdout",
     "output_type": "stream",
     "text": [
      "LABEL: 3.0\n"
     ]
    },
    {
     "data": {
      "image/png": "[encoded data removed]",
      "text/plain": [
       "<matplotlib.figure.Figure at 0x7fe74263b2e8>"
      ]
     },
     "metadata": {},
     "output_type": "display_data"
    }
   ],
   "source": [
    "%matplotlib inline\n",
    "\n",
    "def display(feature_array, label_array, num):\n",
    "    print(\"LABEL: {}\".format(label_array[num] ))\n",
    "    fig,ax  = plt.subplots(1)\n",
    "    ax.imshow(feature_array[num])\n",
    "\n",
    "display(train_features, train_labels, 3)"
   ]
  },
  {
   "cell_type": "code",
   "execution_count": 4,
   "metadata": {},
   "outputs": [],
   "source": [
    "# Preprocessing features\n",
    "from skimage.transform import resize\n",
    "%matplotlib inline\n",
    "\n",
    "def remove_zero_dims(features, labels):\n",
    "    skimmed_features = []\n",
    "    skimmed_labels   = []\n",
    "    \n",
    "    for i, feature in enumerate(features):\n",
    "        height, width = feature.shape[0], feature.shape[1]\n",
    "        to_height = 25\n",
    "        try:\n",
    "            to_width = to_height * ( (1.0 * width) / height)\n",
    "            tmp = resize(feature, (int(to_height), int(to_width), 3), mode='constant')\n",
    "            skimmed_features.append(feature)\n",
    "            skimmed_labels.append(labels[i])\n",
    "        except Exception as e:\n",
    "            print(\"ERROR: {}. DIMS: {} {} {}\".format(e, i, height, width))\n",
    "\n",
    "    return np.array(skimmed_features), np.array(skimmed_labels)\n",
    "\n",
    "        \n",
    "#tmp_features, tmp_labels = remove_zero_dims(train_features, train_labels)\n",
    "#print(tmp_features.shape)\n",
    "#print(tmp_labels.shape)"
   ]
  },
  {
   "cell_type": "code",
   "execution_count": 5,
   "metadata": {},
   "outputs": [],
   "source": [
    "def crop(features, to_height):\n",
    "    #mean_width = np.mean([f.shape[1] for f in features])\n",
    "    #print(\"MEAN WIDTH: {}\".format(mean_width))\n",
    "    \n",
    "    tmp_resized_features = []\n",
    "    for i, feature in enumerate(features):\n",
    "        #print(feature.shape)\n",
    "        height, width = feature.shape[0], feature.shape[1]\n",
    "\n",
    "        to_width = to_height * ( (1.0 * width) / height)\n",
    "        #tmp = resize(feature, (int(to_height), int(to_width), 3), mode='constant')\n",
    "        tmp = resize(feature, (50, 25, 3), mode='constant')\n",
    "        #print(tmp.shape)\n",
    "        tmp_resized_features.append(tmp)\n",
    "        \n",
    "    return np.array(tmp_resized_features)\n",
    "\n",
    "def pad_features(features):\n",
    "    new_features = []\n",
    "    for feature in features:\n",
    "        #print(feature.shape)\n",
    "        height, width, _ = feature.shape\n",
    "        if height > width:\n",
    "            pad = np.zeros((int(height), int((height - width) / 2), 3))\n",
    "            tmp = np.concatenate((pad, feature, pad), axis=1)\n",
    "#            if tmp.shape[0] > tmp.shape[1]:\n",
    "#                one_px_pad = np.zeros((int(height), 1, 3))\n",
    "#                tmp = np.concatenate((tmp, one_px_pad), axis=1)\n",
    "                \n",
    "        else:\n",
    "#            print(feature.shape)\n",
    "            pad = np.zeros((int((width - height) / 2), int(width), 3))\n",
    "            tmp = np.concatenate((pad, feature, pad), axis=0)\n",
    "#            print(tmp.shape)\n",
    "        new_features.append(tmp)\n",
    "    return np.array(new_features)\n",
    "\n",
    "\n",
    "def resize_32x32(features):\n",
    "    return np.array([resize(f, (32, 32, 3), mode='constant') for f in features])\n",
    "\n",
    "def resize_64x64(features):\n",
    "    return np.array([resize(f, (64, 64, 3), mode='constant') for f in features])\n"
   ]
  },
  {
   "cell_type": "code",
   "execution_count": 20,
   "metadata": {},
   "outputs": [],
   "source": [
    "def preprocess_features(features, labels):\n",
    "    features, labels = remove_zero_dims(features, labels)\n",
    "    features = pad_features(features)\n",
    "    features = resize_32x32(features)\n",
    "    \n",
    "    return features, labels"
   ]
  },
  {
   "cell_type": "code",
   "execution_count": 21,
   "metadata": {},
   "outputs": [],
   "source": [
    "def preprocess_labels(labels):\n",
    "    # Removing labels that are not 0 - 9.\n",
    "    labels[labels == 10.0] = 0.0\n",
    "\n",
    "    # One hot encoding\n",
    "    encoded_labels = to_categorical(labels)\n",
    "    \n",
    "    return encoded_labels"
   ]
  },
  {
   "cell_type": "code",
   "execution_count": 8,
   "metadata": {},
   "outputs": [
    {
     "name": "stdout",
     "output_type": "stream",
     "text": [
      "ERROR: float division by zero. DIMS: 543 30 0\n",
      "ERROR: float division by zero. DIMS: 1571 108 0\n",
      "ERROR: float division by zero. DIMS: 6875 38 0\n",
      "ERROR: float division by zero. DIMS: 11710 40 0\n",
      "ERROR: float division by zero. DIMS: 15150 69 0\n",
      "ERROR: float division by zero. DIMS: 20600 46 0\n",
      "ERROR: float division by zero. DIMS: 26065 33 0\n",
      "ERROR: float division by zero. DIMS: 28859 32 0\n",
      "ERROR: float division by zero. DIMS: 33178 17 0\n",
      "ERROR: float division by zero. DIMS: 40034 68 0\n",
      "ERROR: float division by zero. DIMS: 40296 30 0\n",
      "ERROR: float division by zero. DIMS: 42428 46 0\n",
      "ERROR: float division by zero. DIMS: 44972 39 0\n",
      "ERROR: float division by zero. DIMS: 45752 49 0\n",
      "ERROR: float division by zero. DIMS: 45780 53 0\n",
      "ERROR: float division by zero. DIMS: 49123 16 0\n",
      "ERROR: float division by zero. DIMS: 52328 46 0\n",
      "ERROR: float division by zero. DIMS: 58190 64 0\n",
      "ERROR: float division by zero. DIMS: 60511 50 0\n",
      "ERROR: float division by zero. DIMS: 60866 54 0\n",
      "ERROR: float division by zero. DIMS: 62449 37 0\n",
      "ERROR: float division by zero. DIMS: 63075 79 0\n",
      "ERROR: float division by zero. DIMS: 63121 34 0\n",
      "ERROR: float division by zero. DIMS: 63190 173 0\n",
      "ERROR: float division by zero. DIMS: 64847 29 1\n",
      "ERROR: float division by zero. DIMS: 65226 32 0\n",
      "ERROR: float division by zero. DIMS: 66885 27 0\n",
      "ERROR: float division by zero. DIMS: 67866 97 0\n",
      "ERROR: float division by zero. DIMS: 70566 83 0\n",
      "ERROR: float division by zero. DIMS: 71125 29 0\n",
      "ERROR: float division by zero. DIMS: 662 18 0\n",
      "ERROR: float division by zero. DIMS: 842 60 0\n",
      "ERROR: float division by zero. DIMS: 1017 52 0\n",
      "ERROR: float division by zero. DIMS: 5186 71 0\n",
      "ERROR: float division by zero. DIMS: 10451 16 0\n",
      "ERROR: float division by zero. DIMS: 15199 36 0\n",
      "ERROR: float division by zero. DIMS: 17710 21 0\n",
      "ERROR: float division by zero. DIMS: 24752 60 0\n"
     ]
    }
   ],
   "source": [
    "processed_train_features, labels = preprocess_features(train_features, train_labels)  \n",
    "processed_train_labels = preprocess_labels(labels)\n",
    "\n",
    "processed_test_features, labels = preprocess_features(test_features, test_labels)  \n",
    "processed_test_labels = preprocess_labels(labels)"
   ]
  },
  {
   "cell_type": "code",
   "execution_count": 10,
   "metadata": {},
   "outputs": [
    {
     "name": "stdout",
     "output_type": "stream",
     "text": [
      "Train feature shape: (73227, 32, 32, 3)\n",
      "Train label shape: (73227, 10)\n",
      "Test feature shape: (26024, 32, 32, 3)\n",
      "Test label shape: (26024, 10)\n",
      "LABEL: [ 0.  0.  0.  0.  0.  0.  0.  0.  0.  1.]\n"
     ]
    },
    {
     "data": {
      "text/plain": [
       "array([ 0.,  0.,  0.,  0.,  0.,  0.,  0.,  0.,  0.,  1.])"
      ]
     },
     "execution_count": 10,
     "metadata": {},
     "output_type": "execute_result"
    },
    {
     "data": {
      "image/png": "[encoded data removed]",
      "text/plain": [
       "<matplotlib.figure.Figure at 0x7fe748fe2240>"
      ]
     },
     "metadata": {},
     "output_type": "display_data"
    }
   ],
   "source": [
    "print(\"Train feature shape:\", processed_train_features.shape)\n",
    "print(\"Train label shape:\", processed_train_labels.shape)\n",
    "print(\"Test feature shape:\", processed_test_features.shape)\n",
    "print(\"Test label shape:\", processed_test_labels.shape)\n",
    "\n",
    "pic = -1\n",
    "display(processed_train_features, processed_train_labels, pic)\n",
    "processed_train_labels[pic]"
   ]
  },
  {
   "cell_type": "code",
   "execution_count": 11,
   "metadata": {},
   "outputs": [],
   "source": [
    "# Models\n",
    "def dense_various_size_model(in_shape):\n",
    "    inputs = Input(shape=(3,None,None))\n",
    "    x = Dense(32, activation='relu')(inputs)\n",
    "    x = Dense(32, activation='relu')(x)\n",
    "    x = Flatten()(x)\n",
    "    x = Dense(10, activation='softmax')(x)\n",
    "    \n",
    "    x = Model(inputs=inputs, outputs=x)\n",
    "    x.summary()\n",
    "    return x\n",
    "    \n",
    "def dense_model(in_shape):\n",
    "    model = Sequential()\n",
    "    model.add(Dense(32, input_shape=in_shape))\n",
    "    model.add(Activation('relu'))\n",
    "    model.add(Dense(32))\n",
    "    model.add(Activation('relu'))\n",
    "    model.add(Dense(8))\n",
    "    model.add(Activation('relu'))\n",
    "    model.add(Flatten())\n",
    "    model.add(Dense(10, activation='softmax'))\n",
    "    model.summary()\n",
    "    return model\n",
    "\n",
    "def pooling_model(in_shape):\n",
    "    model = Sequential()\n",
    "    model.add(Conv2D(filters=16, kernel_size=2, padding='same', activation='relu', input_shape=in_shape))\n",
    "    model.add(MaxPooling2D(pool_size=2))\n",
    "    model.add(Conv2D(filters=32, kernel_size=2, padding='same', activation='relu'))\n",
    "    model.add(MaxPooling2D(pool_size=2))\n",
    "    model.add(Dropout(0.2))\n",
    "    model.add(Conv2D(filters=64, kernel_size=2, padding='same', activation='relu'))\n",
    "    model.add(MaxPooling2D(pool_size=2))\n",
    "    model.add(GlobalAveragePooling2D())\n",
    "    model.add(Dropout(0.2))\n",
    "    model.add(Dense(10, activation='softmax'))\n",
    "    model.summary()\n",
    "    return model\n",
    "\n",
    "def cnn_model(in_shape):\n",
    "    model = Sequential()\n",
    "    model.add(Conv2D(filters=48, kernel_size=2, padding='same', activation='relu', input_shape=in_shape))\n",
    "    model.add(MaxPooling2D(pool_size=2))\n",
    "    model.add(BatchNormalization())\n",
    "    model.add(Conv2D(filters=64, kernel_size=2, padding='same', activation='relu'))\n",
    "    model.add(MaxPooling2D(pool_size=2))\n",
    "    model.add(BatchNormalization())\n",
    "    model.add(Conv2D(filters=128, kernel_size=2, padding='same', activation='relu'))\n",
    "    model.add(MaxPooling2D(pool_size=2))\n",
    "    model.add(BatchNormalization())\n",
    "    model.add(Conv2D(filters=160, kernel_size=2, padding='same', activation='relu'))\n",
    "    model.add(MaxPooling2D(pool_size=2))\n",
    "    model.add(BatchNormalization())\n",
    "    \n",
    "    #model.add(Conv2D(filters=192, kernel_size=2, padding='same', activation='relu'))\n",
    "    #model.add(Conv2D(filters=192, kernel_size=2, padding='same', activation='relu'))\n",
    "    #model.add(Conv2D(filters=192, kernel_size=2, padding='same', activation='relu'))\n",
    "    #model.add(Conv2D(filters=192, kernel_size=2, padding='same', activation='relu'))\n",
    "\n",
    "    model.add(GlobalAveragePooling2D())\n",
    "    model.add(Dense(512, activation='relu'))\n",
    "    model.add(Dense(10, activation='softmax'))\n",
    "    model.summary()\n",
    "    return model\n"
   ]
  },
  {
   "cell_type": "code",
   "execution_count": 13,
   "metadata": {},
   "outputs": [
    {
     "name": "stdout",
     "output_type": "stream",
     "text": [
      "_________________________________________________________________\n",
      "Layer (type)                 Output Shape              Param #   \n",
      "=================================================================\n",
      "conv2d_1 (Conv2D)            (None, 32, 32, 48)        624       \n",
      "_________________________________________________________________\n",
      "max_pooling2d_1 (MaxPooling2 (None, 16, 16, 48)        0         \n",
      "_________________________________________________________________\n",
      "batch_normalization_1 (Batch (None, 16, 16, 48)        192       \n",
      "_________________________________________________________________\n",
      "conv2d_2 (Conv2D)            (None, 16, 16, 64)        12352     \n",
      "_________________________________________________________________\n",
      "max_pooling2d_2 (MaxPooling2 (None, 8, 8, 64)          0         \n",
      "_________________________________________________________________\n",
      "batch_normalization_2 (Batch (None, 8, 8, 64)          256       \n",
      "_________________________________________________________________\n",
      "conv2d_3 (Conv2D)            (None, 8, 8, 128)         32896     \n",
      "_________________________________________________________________\n",
      "max_pooling2d_3 (MaxPooling2 (None, 4, 4, 128)         0         \n",
      "_________________________________________________________________\n",
      "batch_normalization_3 (Batch (None, 4, 4, 128)         512       \n",
      "_________________________________________________________________\n",
      "conv2d_4 (Conv2D)            (None, 4, 4, 160)         82080     \n",
      "_________________________________________________________________\n",
      "max_pooling2d_4 (MaxPooling2 (None, 2, 2, 160)         0         \n",
      "_________________________________________________________________\n",
      "batch_normalization_4 (Batch (None, 2, 2, 160)         640       \n",
      "_________________________________________________________________\n",
      "global_average_pooling2d_1 ( (None, 160)               0         \n",
      "_________________________________________________________________\n",
      "dense_1 (Dense)              (None, 512)               82432     \n",
      "_________________________________________________________________\n",
      "dense_2 (Dense)              (None, 10)                5130      \n",
      "=================================================================\n",
      "Total params: 217,114.0\n",
      "Trainable params: 216,314.0\n",
      "Non-trainable params: 800.0\n",
      "_________________________________________________________________\n"
     ]
    }
   ],
   "source": [
    "model = cnn_model(processed_train_features.shape[1:])"
   ]
  },
  {
   "cell_type": "code",
   "execution_count": 14,
   "metadata": {},
   "outputs": [],
   "source": [
    "model.compile(optimizer='rmsprop', loss='categorical_crossentropy', metrics=['accuracy'])"
   ]
  },
  {
   "cell_type": "code",
   "execution_count": 15,
   "metadata": {},
   "outputs": [
    {
     "name": "stdout",
     "output_type": "stream",
     "text": [
      "MODEL FILE: models/singledigits_20epochs_20190716_133507.hdf5\n",
      "Train on 73227 samples, validate on 26024 samples\n",
      "Epoch 1/20\n",
      "73216/73227 [============================>.] - ETA: 0s - loss: 0.7740 - acc: 0.7492Epoch 00000: acc improved from -inf to 0.74918, saving model to models/singledigits_20epochs_20190716_133507.hdf5\n",
      "73227/73227 [==============================] - 282s - loss: 0.7739 - acc: 0.7492 - val_loss: 0.5638 - val_acc: 0.8164\n",
      "Epoch 2/20\n",
      "73216/73227 [============================>.] - ETA: 0s - loss: 0.4110 - acc: 0.8747Epoch 00001: acc improved from 0.74918 to 0.87468, saving model to models/singledigits_20epochs_20190716_133507.hdf5\n",
      "73227/73227 [==============================] - 286s - loss: 0.4109 - acc: 0.8747 - val_loss: 0.4801 - val_acc: 0.8561\n",
      "Epoch 3/20\n",
      "73216/73227 [============================>.] - ETA: 0s - loss: 0.3457 - acc: 0.8966Epoch 00002: acc improved from 0.87468 to 0.89660, saving model to models/singledigits_20epochs_20190716_133507.hdf5\n",
      "73227/73227 [==============================] - 286s - loss: 0.3458 - acc: 0.8966 - val_loss: 0.9107 - val_acc: 0.7167\n",
      "Epoch 4/20\n",
      "73216/73227 [============================>.] - ETA: 0s - loss: 0.3054 - acc: 0.9094Epoch 00003: acc improved from 0.89660 to 0.90946, saving model to models/singledigits_20epochs_20190716_133507.hdf5\n",
      "73227/73227 [==============================] - 285s - loss: 0.3054 - acc: 0.9095 - val_loss: 0.3854 - val_acc: 0.8945\n",
      "Epoch 5/20\n",
      "73216/73227 [============================>.] - ETA: 0s - loss: 0.2769 - acc: 0.9184Epoch 00004: acc improved from 0.90946 to 0.91836, saving model to models/singledigits_20epochs_20190716_133507.hdf5\n",
      "73227/73227 [==============================] - 286s - loss: 0.2769 - acc: 0.9184 - val_loss: 0.4046 - val_acc: 0.8893\n",
      "Epoch 6/20\n",
      "73216/73227 [============================>.] - ETA: 0s - loss: 0.2530 - acc: 0.9251Epoch 00005: acc improved from 0.91836 to 0.92507, saving model to models/singledigits_20epochs_20190716_133507.hdf5\n",
      "73227/73227 [==============================] - 286s - loss: 0.2530 - acc: 0.9251 - val_loss: 0.3956 - val_acc: 0.8917\n",
      "Epoch 7/20\n",
      "73216/73227 [============================>.] - ETA: 0s - loss: 0.2346 - acc: 0.9304Epoch 00006: acc improved from 0.92507 to 0.93041, saving model to models/singledigits_20epochs_20190716_133507.hdf5\n",
      "73227/73227 [==============================] - 286s - loss: 0.2346 - acc: 0.9304 - val_loss: 0.3916 - val_acc: 0.8964\n",
      "Epoch 8/20\n",
      "73216/73227 [============================>.] - ETA: 0s - loss: 0.2195 - acc: 0.9347Epoch 00007: acc improved from 0.93041 to 0.93466, saving model to models/singledigits_20epochs_20190716_133507.hdf5\n",
      "73227/73227 [==============================] - 286s - loss: 0.2195 - acc: 0.9347 - val_loss: 0.3876 - val_acc: 0.8981\n",
      "Epoch 9/20\n",
      "73216/73227 [============================>.] - ETA: 0s - loss: 0.2042 - acc: 0.9405Epoch 00008: acc improved from 0.93466 to 0.94054, saving model to models/singledigits_20epochs_20190716_133507.hdf5\n",
      "73227/73227 [==============================] - 286s - loss: 0.2042 - acc: 0.9405 - val_loss: 0.4328 - val_acc: 0.8920\n",
      "Epoch 10/20\n",
      "73216/73227 [============================>.] - ETA: 0s - loss: 0.1913 - acc: 0.9443Epoch 00009: acc improved from 0.94054 to 0.94430, saving model to models/singledigits_20epochs_20190716_133507.hdf5\n",
      "73227/73227 [==============================] - 286s - loss: 0.1913 - acc: 0.9443 - val_loss: 0.5740 - val_acc: 0.8738\n",
      "Epoch 11/20\n",
      "73216/73227 [============================>.] - ETA: 0s - loss: 0.1814 - acc: 0.9463Epoch 00010: acc improved from 0.94430 to 0.94625, saving model to models/singledigits_20epochs_20190716_133507.hdf5\n",
      "73227/73227 [==============================] - 286s - loss: 0.1815 - acc: 0.9462 - val_loss: 0.4860 - val_acc: 0.8901\n",
      "Epoch 12/20\n",
      "73216/73227 [============================>.] - ETA: 0s - loss: 0.1721 - acc: 0.9491Epoch 00011: acc improved from 0.94625 to 0.94914, saving model to models/singledigits_20epochs_20190716_133507.hdf5\n",
      "73227/73227 [==============================] - 286s - loss: 0.1721 - acc: 0.9491 - val_loss: 0.4164 - val_acc: 0.9057\n",
      "Epoch 13/20\n",
      "73216/73227 [============================>.] - ETA: 0s - loss: 0.1631 - acc: 0.9527Epoch 00012: acc improved from 0.94914 to 0.95272, saving model to models/singledigits_20epochs_20190716_133507.hdf5\n",
      "73227/73227 [==============================] - 285s - loss: 0.1631 - acc: 0.9527 - val_loss: 0.4440 - val_acc: 0.9035\n",
      "Epoch 14/20\n",
      "73216/73227 [============================>.] - ETA: 0s - loss: 0.1538 - acc: 0.9551Epoch 00013: acc improved from 0.95272 to 0.95511, saving model to models/singledigits_20epochs_20190716_133507.hdf5\n",
      "73227/73227 [==============================] - 285s - loss: 0.1538 - acc: 0.9551 - val_loss: 0.5934 - val_acc: 0.8597\n",
      "Epoch 15/20\n",
      "73216/73227 [============================>.] - ETA: 0s - loss: 0.1447 - acc: 0.9576Epoch 00014: acc improved from 0.95511 to 0.95758, saving model to models/singledigits_20epochs_20190716_133507.hdf5\n",
      "73227/73227 [==============================] - 286s - loss: 0.1447 - acc: 0.9576 - val_loss: 0.4639 - val_acc: 0.9074\n",
      "Epoch 16/20\n",
      "73216/73227 [============================>.] - ETA: 0s - loss: 0.1383 - acc: 0.9585Epoch 00015: acc improved from 0.95758 to 0.95849, saving model to models/singledigits_20epochs_20190716_133507.hdf5\n",
      "73227/73227 [==============================] - 285s - loss: 0.1383 - acc: 0.9585 - val_loss: 0.5295 - val_acc: 0.8960\n",
      "Epoch 17/20\n",
      "73216/73227 [============================>.] - ETA: 0s - loss: 0.1349 - acc: 0.9607Epoch 00016: acc improved from 0.95849 to 0.96072, saving model to models/singledigits_20epochs_20190716_133507.hdf5\n",
      "73227/73227 [==============================] - 285s - loss: 0.1349 - acc: 0.9607 - val_loss: 0.4992 - val_acc: 0.9054\n",
      "Epoch 18/20\n",
      "73216/73227 [============================>.] - ETA: 0s - loss: 0.1296 - acc: 0.9624Epoch 00017: acc improved from 0.96072 to 0.96242, saving model to models/singledigits_20epochs_20190716_133507.hdf5\n",
      "73227/73227 [==============================] - 284s - loss: 0.1296 - acc: 0.9624 - val_loss: 0.5201 - val_acc: 0.8951\n",
      "Epoch 19/20\n",
      "73216/73227 [============================>.] - ETA: 0s - loss: 0.1233 - acc: 0.9638Epoch 00018: acc improved from 0.96242 to 0.96380, saving model to models/singledigits_20epochs_20190716_133507.hdf5\n",
      "73227/73227 [==============================] - 285s - loss: 0.1233 - acc: 0.9638 - val_loss: 0.5966 - val_acc: 0.8865\n",
      "Epoch 20/20\n",
      "73216/73227 [============================>.] - ETA: 0s - loss: 0.1199 - acc: 0.9650Epoch 00019: acc improved from 0.96380 to 0.96497, saving model to models/singledigits_20epochs_20190716_133507.hdf5\n",
      "73227/73227 [==============================] - 285s - loss: 0.1199 - acc: 0.9650 - val_loss: 0.5372 - val_acc: 0.9041\n",
      "TIME: 5716.795814275742\n"
     ]
    }
   ],
   "source": [
    "from keras.callbacks import ModelCheckpoint\n",
    "from time import time\n",
    "\n",
    "start      = time()\n",
    "epochs     = 20\n",
    "time_now   = datetime.now().strftime(\"%Y%m%d_%H%M%S\")\n",
    "model_path = os.path.join('models', 'singledigits_' + str(epochs) + 'epochs_' + time_now +'.hdf5')\n",
    "\n",
    "print(\"MODEL FILE: {}\".format(model_path))\n",
    "\n",
    "checkpointer = ModelCheckpoint(filepath=model_path, \n",
    "                               verbose=1, save_best_only=True, monitor='acc',)\n",
    "\n",
    "model.fit(processed_train_features, \n",
    "          processed_train_labels,\n",
    "          epochs=epochs, \n",
    "          batch_size=32,\n",
    "          validation_data=(processed_test_features, processed_test_labels),\n",
    "          callbacks=[checkpointer], \n",
    "          verbose=1)\n",
    "\n",
    "print(\"TIME: {}\".format(time() - start))"
   ]
  },
  {
   "cell_type": "code",
   "execution_count": 16,
   "metadata": {},
   "outputs": [
    {
     "name": "stdout",
     "output_type": "stream",
     "text": [
      "SCORE: 0.5371681475173596, ACCURACY: 0.9041269597294804\n"
     ]
    }
   ],
   "source": [
    "score, acc = model.evaluate(processed_test_features, processed_test_labels, verbose=0)\n",
    "print(\"SCORE: {}, ACCURACY: {}\".format(score, acc))"
   ]
  },
  {
   "cell_type": "code",
   "execution_count": 17,
   "metadata": {},
   "outputs": [
    {
     "name": "stdout",
     "output_type": "stream",
     "text": [
      "[ 5.  2.  1.  0.  6.  1.  9.  1.  1.  8.]\n"
     ]
    }
   ],
   "source": [
    "def predict(array_set):\n",
    "    y_pred      = model.predict(array_set)\n",
    "    return np.array([np.argmax(pred) * 1.0 for pred in y_pred])\n",
    "\n",
    "samples = 10\n",
    "print(predict(processed_test_features[:samples]))"
   ]
  },
  {
   "cell_type": "code",
   "execution_count": 19,
   "metadata": {},
   "outputs": [
    {
     "name": "stdout",
     "output_type": "stream",
     "text": [
      "LABEL: 5\n",
      "LABEL: 2\n",
      "LABEL: 1\n",
      "LABEL: 0\n",
      "LABEL: 6\n",
      "LABEL: 1\n",
      "LABEL: 9\n",
      "LABEL: 1\n",
      "LABEL: 1\n",
      "LABEL: 8\n"
     ]
    },
    {
     "data": {
      "image/png": "[encoded data removed]",
      "text/plain": [
       "<matplotlib.figure.Figure at 0x7fe6a32e8b38>"
      ]
     },
     "metadata": {},
     "output_type": "display_data"
    },
    {
     "data": {
      "image/png": "[encoded data removed]",
      "text/plain": [
       "<matplotlib.figure.Figure at 0x7fe6a323e630>"
      ]
     },
     "metadata": {},
     "output_type": "display_data"
    },
    {
     "data": {
      "image/png": "[encoded data removed]",
      "text/plain": [
       "<matplotlib.figure.Figure at 0x7fe6a327bb38>"
      ]
     },
     "metadata": {},
     "output_type": "display_data"
    },
    {
     "data": {
      "image/png": "[encoded data removed]",
      "text/plain": [
       "<matplotlib.figure.Figure at 0x7fe6a0735f98>"
      ]
     },
     "metadata": {},
     "output_type": "display_data"
    },
    {
     "data": {
      "image/png": "[encoded data removed]",
      "text/plain": [
       "<matplotlib.figure.Figure at 0x7fe6a074f400>"
      ]
     },
     "metadata": {},
     "output_type": "display_data"
    },
    {
     "data": {
      "image/png": "[encoded data removed]",
      "text/plain": [
       "<matplotlib.figure.Figure at 0x7fe6a07da6a0>"
      ]
     },
     "metadata": {},
     "output_type": "display_data"
    },
    {
     "data": {
      "image/png": "[encoded data removed]",
      "text/plain": [
       "<matplotlib.figure.Figure at 0x7fe6a069a7f0>"
      ]
     },
     "metadata": {},
     "output_type": "display_data"
    },
    {
     "data": {
      "image/png": "[encoded data removed]",
      "text/plain": [
       "<matplotlib.figure.Figure at 0x7fe6927b44e0>"
      ]
     },
     "metadata": {},
     "output_type": "display_data"
    },
    {
     "data": {
      "image/png": "[encoded data removed]",
      "text/plain": [
       "<matplotlib.figure.Figure at 0x7fe6a32a7630>"
      ]
     },
     "metadata": {},
     "output_type": "display_data"
    },
    {
     "data": {
      "image/png": "[encoded data removed]",
      "text/plain": [
       "<matplotlib.figure.Figure at 0x7fe6a064f320>"
      ]
     },
     "metadata": {},
     "output_type": "display_data"
    }
   ],
   "source": [
    "for i in range(samples):\n",
    "    tmp_labels = [ np.argmax(label) for label in processed_test_labels ]\n",
    "    display(processed_test_features,  tmp_labels, i)"
   ]
  },
  {
   "cell_type": "code",
   "execution_count": null,
   "metadata": {},
   "outputs": [],
   "source": []
  }
 ],
 "metadata": {
  "kernelspec": {
   "display_name": "Python 3",
   "language": "python",
   "name": "python3"
  },
  "language_info": {
   "codemirror_mode": {
    "name": "ipython",
    "version": 3
   },
   "file_extension": ".py",
   "mimetype": "text/x-python",
   "name": "python",
   "nbconvert_exporter": "python",
   "pygments_lexer": "ipython3",
   "version": "3.5.2"
  }
 },
 "nbformat": 4,
 "nbformat_minor": 2
}
