{
 "cells": [
  {
   "cell_type": "code",
   "execution_count": 1,
   "metadata": {},
   "outputs": [
    {
     "name": "stderr",
     "output_type": "stream",
     "text": [
      "Using TensorFlow backend.\n"
     ]
    }
   ],
   "source": [
    "from keras.layers import Conv1D, Conv2D, MaxPooling1D, MaxPooling2D, GlobalAveragePooling2D\n",
    "from keras.layers import Dropout, Flatten, Dense, Activation, Reshape\n",
    "from keras.layers.normalization import BatchNormalization\n",
    "from keras.models import Sequential\n",
    "from keras.utils  import to_categorical\n",
    "from datetime     import datetime\n",
    "import matplotlib.pyplot as plt\n",
    "import numpy as np\n",
    "import cv2\n",
    "import os"
   ]
  },
  {
   "cell_type": "code",
   "execution_count": 2,
   "metadata": {},
   "outputs": [
    {
     "name": "stdout",
     "output_type": "stream",
     "text": [
      "Features: (33402,)\n",
      "Labels (33402,)\n"
     ]
    }
   ],
   "source": [
    "data_dir = 'numpy_arrays'\n",
    "X  = 'train_picture_features.npy'\n",
    "y  = 'train_picture_labels.npy'\n",
    "\n",
    "train_features = np.load(os.path.join(data_dir, X))\n",
    "train_labels   = np.load(os.path.join(data_dir, y))\n",
    "\n",
    "print(\"Features:\",train_features.shape)\n",
    "print(\"Labels\", train_labels.shape)"
   ]
  },
  {
   "cell_type": "code",
   "execution_count": 3,
   "metadata": {},
   "outputs": [
    {
     "name": "stdout",
     "output_type": "stream",
     "text": [
      "(33402, 32, 32, 3)\n"
     ]
    }
   ],
   "source": [
    "# Preprocessing features\n",
    "from skimage.transform import resize\n",
    "\n",
    "%matplotlib inline\n",
    "\n",
    "def resize_images(arrays, side_length):\n",
    "    \n",
    "    array_count = arrays.shape[0]\n",
    "    template    = np.zeros((side_length, side_length,3))\n",
    "    all_arrays = []\n",
    "    \n",
    "    for array in arrays:\n",
    "        \n",
    "        #print(array.shape)\n",
    "        height, width = array.shape[0], array.shape[1]\n",
    "        if height > width:\n",
    "            new_height = side_length\n",
    "            diff       = side_length / height\n",
    "            new_width  = width * diff\n",
    "        else:\n",
    "            new_width  = side_length\n",
    "            diff       = side_length / width\n",
    "            new_height = height * diff\n",
    "            \n",
    "            tmp            = resize(array, (int(new_height), int(new_width), 3), mode='constant')\n",
    "            top_padding    = np.zeros((int((side_length - tmp.shape[0]) / 2), side_length, 3))\n",
    "            bottom_padding = np.zeros((int(side_length - top_padding.shape[0] - tmp.shape[0]) , side_length, 3))\n",
    " \n",
    "            #print(top_padding.shape)\n",
    "            #print(tmp.shape)\n",
    "            #print(bottom_padding.shape)\n",
    "            final = np.concatenate((top_padding, tmp, bottom_padding))\n",
    "            #print(final.shape)\n",
    "        \n",
    "        all_arrays.append(final)\n",
    "    \n",
    "    return np.array(all_arrays)\n",
    "\n",
    "def crop(arrays, new_width):\n",
    "    ratio_max = 0.0\n",
    "    ratio_min = np.inf\n",
    "    \n",
    "    for i, array in enumerate(arrays):\n",
    "        print(array.shape)\n",
    "        if i > 20:\n",
    "            break\n",
    "        height, width = array.shape[0], array.shape[1]\n",
    "        ratio = height / (1.0 * width)\n",
    "        ratio_max = max(ratio_max, ratio)\n",
    "        ratio_min = min(ratio_min, ratio)\n",
    "\n",
    "    print(\"MAX: \", ratio_max)\n",
    "    print(\"MIN: \", ratio_min)\n",
    "#################################\n",
    "\n",
    "def resize_32x32(features):\n",
    "    return np.array([resize(f, (32, 32, 3), mode='constant') for f in features])\n",
    "\n",
    "def resize_64x64(features):\n",
    "    return np.array([resize(f, (64, 64, 3), mode='constant') for f in features])\n",
    "\n",
    "resized_images = resize_32x32(train_features)\n",
    "\n",
    "print(resized_images.shape)"
   ]
  },
  {
   "cell_type": "code",
   "execution_count": 4,
   "metadata": {},
   "outputs": [
    {
     "name": "stdout",
     "output_type": "stream",
     "text": [
      "(33402, 7)\n",
      "[ 0.  0.  1.  0.  0.  0.  0.]\n",
      "[ 0.  0.  1.  0.  0.  0.  0.]\n",
      "[ 0.  0.  0.  1.  0.  0.  0.]\n"
     ]
    }
   ],
   "source": [
    "# Preprocessing targets\n",
    "\n",
    "def list_to_arrays(labels):\n",
    "    return np.array([np.array(label) for label in labels])\n",
    "\n",
    "def remove_val(labels, in_val, out_val):\n",
    "    for label in labels:\n",
    "        label[label == in_val] = out_val\n",
    "    \n",
    "    return labels\n",
    "    #return np.where(labels==in_val, out_val, labels) \n",
    "\n",
    "def pad_labels(train_labels):\n",
    "    print(train_labels.shape)\n",
    "    max_len = 0\n",
    "    \n",
    "    for arr in train_labels:\n",
    "        max_len = max(len(arr), max_len)\n",
    "\n",
    "    print(\"MAX LENGTH: {}\".format(max_len))\n",
    "    \n",
    "    return np.array([arr + ((max_len - len(arr)) * [10.0]) for arr in train_labels])     \n",
    "\n",
    "def one_hot_encoding(labels):\n",
    "    return np.array([ to_categorical(label, num_classes=11) for label in labels])\n",
    "\n",
    "label_lengths = to_categorical(np.array([len(label) for label in train_labels]))\n",
    "print(label_lengths.shape)\n",
    "print(label_lengths[1])\n",
    "print(label_lengths[2])\n",
    "print(label_lengths[-1])"
   ]
  },
  {
   "cell_type": "code",
   "execution_count": 22,
   "metadata": {},
   "outputs": [],
   "source": [
    "def dense_model(in_shape):\n",
    "    model = Sequential()\n",
    "    model.add(Dense(32, input_shape=in_shape))\n",
    "    model.add(Activation('relu'))\n",
    "    model.add(Dropout(0.2))\n",
    "    model.add(Dense(64))\n",
    "    model.add(Activation('relu'))\n",
    "    model.add(Dropout(0.2))\n",
    "    model.add(Dense(128))\n",
    "    model.add(Activation('relu'))\n",
    "    model.add(Dropout(0.2))\n",
    "    model.add(Dense(192))\n",
    "    model.add(Activation('relu'))\n",
    "    model.add(Dropout(0.2))\n",
    "    model.add(Flatten())\n",
    "    model.add(Dense(7))\n",
    "    model.add(Activation('softmax'))\n",
    "    model.summary()\n",
    "    return model\n",
    "    \n",
    "def pooling_model(in_shape):\n",
    "    model = Sequential()\n",
    "    model.add(Conv2D(filters=48, kernel_size=2, padding='same', activation='relu', input_shape=in_shape))\n",
    "    model.add(MaxPooling2D(pool_size=2))\n",
    "    model.add(BatchNormalization())\n",
    "    model.add(Conv2D(filters=64, kernel_size=2, padding='same', activation='relu'))\n",
    "    model.add(MaxPooling2D(pool_size=2))\n",
    "    model.add(BatchNormalization())\n",
    "    model.add(Conv2D(filters=128, kernel_size=2, padding='same', activation='relu'))\n",
    "    model.add(MaxPooling2D(pool_size=2))\n",
    "    model.add(BatchNormalization())\n",
    "    model.add(Conv2D(filters=160, kernel_size=2, padding='same', activation='relu'))\n",
    "    model.add(MaxPooling2D(pool_size=2))\n",
    "    model.add(BatchNormalization())\n",
    "    model.add(Conv2D(filters=192, kernel_size=2, padding='same', activation='relu'))\n",
    "    model.add(MaxPooling2D(pool_size=2))\n",
    "    model.add(BatchNormalization())\n",
    "\n",
    "    model.add(GlobalAveragePooling2D())\n",
    "    model.add(Dense(512, activation='relu'))\n",
    "    model.add(Dense(7, activation='softmax'))\n",
    "    model.summary()\n",
    "    return model"
   ]
  },
  {
   "cell_type": "code",
   "execution_count": 26,
   "metadata": {},
   "outputs": [
    {
     "name": "stdout",
     "output_type": "stream",
     "text": [
      "_________________________________________________________________\n",
      "Layer (type)                 Output Shape              Param #   \n",
      "=================================================================\n",
      "conv2d_6 (Conv2D)            (None, 32, 32, 48)        624       \n",
      "_________________________________________________________________\n",
      "max_pooling2d_6 (MaxPooling2 (None, 16, 16, 48)        0         \n",
      "_________________________________________________________________\n",
      "batch_normalization_6 (Batch (None, 16, 16, 48)        192       \n",
      "_________________________________________________________________\n",
      "conv2d_7 (Conv2D)            (None, 16, 16, 64)        12352     \n",
      "_________________________________________________________________\n",
      "max_pooling2d_7 (MaxPooling2 (None, 8, 8, 64)          0         \n",
      "_________________________________________________________________\n",
      "batch_normalization_7 (Batch (None, 8, 8, 64)          256       \n",
      "_________________________________________________________________\n",
      "conv2d_8 (Conv2D)            (None, 8, 8, 128)         32896     \n",
      "_________________________________________________________________\n",
      "max_pooling2d_8 (MaxPooling2 (None, 4, 4, 128)         0         \n",
      "_________________________________________________________________\n",
      "batch_normalization_8 (Batch (None, 4, 4, 128)         512       \n",
      "_________________________________________________________________\n",
      "conv2d_9 (Conv2D)            (None, 4, 4, 160)         82080     \n",
      "_________________________________________________________________\n",
      "max_pooling2d_9 (MaxPooling2 (None, 2, 2, 160)         0         \n",
      "_________________________________________________________________\n",
      "batch_normalization_9 (Batch (None, 2, 2, 160)         640       \n",
      "_________________________________________________________________\n",
      "conv2d_10 (Conv2D)           (None, 2, 2, 192)         123072    \n",
      "_________________________________________________________________\n",
      "max_pooling2d_10 (MaxPooling (None, 1, 1, 192)         0         \n",
      "_________________________________________________________________\n",
      "batch_normalization_10 (Batc (None, 1, 1, 192)         768       \n",
      "_________________________________________________________________\n",
      "global_average_pooling2d_2 ( (None, 192)               0         \n",
      "_________________________________________________________________\n",
      "dense_22 (Dense)             (None, 512)               98816     \n",
      "_________________________________________________________________\n",
      "dense_23 (Dense)             (None, 7)                 3591      \n",
      "=================================================================\n",
      "Total params: 355,799.0\n",
      "Trainable params: 354,615.0\n",
      "Non-trainable params: 1,184.0\n",
      "_________________________________________________________________\n",
      "INPUT SHAPE: (33402, 32, 32, 3)\n",
      "OUTPUT SHAPE: (33402, 7)\n"
     ]
    }
   ],
   "source": [
    "features = resized_images\n",
    "targets  = label_lengths\n",
    "model    = pooling_model(features.shape[1:])\n",
    "\n",
    "print(\"INPUT SHAPE: {}\".format(features.shape))\n",
    "print(\"OUTPUT SHAPE: {}\".format(targets.shape))"
   ]
  },
  {
   "cell_type": "code",
   "execution_count": 27,
   "metadata": {},
   "outputs": [],
   "source": [
    "model.compile(optimizer='rmsprop', loss='categorical_crossentropy', metrics=['accuracy'])"
   ]
  },
  {
   "cell_type": "code",
   "execution_count": 28,
   "metadata": {},
   "outputs": [
    {
     "name": "stdout",
     "output_type": "stream",
     "text": [
      "MODEL FILE: models/model_multidigitlength_10epochs_20190627_020125.hdf5\n",
      "Epoch 1/10\n",
      "33400/33402 [============================>.] - ETA: 0s - loss: 0.8905 - acc: 0.6194Epoch 00000: acc improved from -inf to 0.61936, saving model to models/model_multidigitlength_10epochs_20190627_020125.hdf5\n",
      "33402/33402 [==============================] - 123s - loss: 0.8905 - acc: 0.6194   \n",
      "Epoch 2/10\n",
      "33400/33402 [============================>.] - ETA: 0s - loss: 0.6669 - acc: 0.7282Epoch 00001: acc improved from 0.61936 to 0.72825, saving model to models/model_multidigitlength_10epochs_20190627_020125.hdf5\n",
      "33402/33402 [==============================] - 123s - loss: 0.6669 - acc: 0.7282   \n",
      "Epoch 3/10\n",
      "33400/33402 [============================>.] - ETA: 0s - loss: 0.5852 - acc: 0.7663Epoch 00002: acc improved from 0.72825 to 0.76636, saving model to models/model_multidigitlength_10epochs_20190627_020125.hdf5\n",
      "33402/33402 [==============================] - 122s - loss: 0.5851 - acc: 0.7664   \n",
      "Epoch 4/10\n",
      "33400/33402 [============================>.] - ETA: 0s - loss: 0.5391 - acc: 0.7890Epoch 00003: acc improved from 0.76636 to 0.78896, saving model to models/model_multidigitlength_10epochs_20190627_020125.hdf5\n",
      "33402/33402 [==============================] - 122s - loss: 0.5391 - acc: 0.7890   \n",
      "Epoch 5/10\n",
      "33400/33402 [============================>.] - ETA: 0s - loss: 0.5050 - acc: 0.8018Epoch 00004: acc improved from 0.78896 to 0.80178, saving model to models/model_multidigitlength_10epochs_20190627_020125.hdf5\n",
      "33402/33402 [==============================] - 123s - loss: 0.5050 - acc: 0.8018   \n",
      "Epoch 6/10\n",
      "33400/33402 [============================>.] - ETA: 0s - loss: 0.4753 - acc: 0.8131Epoch 00005: acc improved from 0.80178 to 0.81310, saving model to models/model_multidigitlength_10epochs_20190627_020125.hdf5\n",
      "33402/33402 [==============================] - 123s - loss: 0.4753 - acc: 0.8131   \n",
      "Epoch 7/10\n",
      "33400/33402 [============================>.] - ETA: 0s - loss: 0.4500 - acc: 0.8260Epoch 00006: acc improved from 0.81310 to 0.82606, saving model to models/model_multidigitlength_10epochs_20190627_020125.hdf5\n",
      "33402/33402 [==============================] - 123s - loss: 0.4500 - acc: 0.8261   \n",
      "Epoch 8/10\n",
      "33400/33402 [============================>.] - ETA: 0s - loss: 0.4214 - acc: 0.8373Epoch 00007: acc improved from 0.82606 to 0.83735, saving model to models/model_multidigitlength_10epochs_20190627_020125.hdf5\n",
      "33402/33402 [==============================] - 124s - loss: 0.4214 - acc: 0.8373   \n",
      "Epoch 9/10\n",
      "33400/33402 [============================>.] - ETA: 0s - loss: 0.3945 - acc: 0.8466Epoch 00008: acc improved from 0.83735 to 0.84666, saving model to models/model_multidigitlength_10epochs_20190627_020125.hdf5\n",
      "33402/33402 [==============================] - 125s - loss: 0.3945 - acc: 0.8467   \n",
      "Epoch 10/10\n",
      "33400/33402 [============================>.] - ETA: 0s - loss: 0.3751 - acc: 0.8542Epoch 00009: acc improved from 0.84666 to 0.85420, saving model to models/model_multidigitlength_10epochs_20190627_020125.hdf5\n",
      "33402/33402 [==============================] - 126s - loss: 0.3751 - acc: 0.8542   \n",
      "TIME: 1239.837877035141\n"
     ]
    }
   ],
   "source": [
    "from keras.callbacks import ModelCheckpoint\n",
    "from time import time\n",
    "\n",
    "start      = time()\n",
    "epochs     = 10\n",
    "time_now   = datetime.now().strftime(\"%Y%m%d_%H%M%S\")\n",
    "model_path = os.path.join('models', 'model_multidigitlength_' + str(epochs) + 'epochs_' + time_now +'.hdf5')\n",
    "\n",
    "print(\"MODEL FILE: {}\".format(model_path))\n",
    "\n",
    "checkpointer = ModelCheckpoint(filepath=model_path, \n",
    "                               verbose=1, save_best_only=True, monitor='acc',)\n",
    "\n",
    "model.fit(features, targets\n",
    "          , epochs=epochs, batch_size=20, callbacks=[checkpointer], verbose=1)\n",
    "\n",
    "print(\"TIME: {}\".format(time() - start))"
   ]
  },
  {
   "cell_type": "code",
   "execution_count": 29,
   "metadata": {},
   "outputs": [],
   "source": [
    "def predict(array_set):\n",
    "    y_pred = model.predict(array_set)\n",
    "    return np.array([np.argmax(i) for i in y_pred])\n",
    "\n",
    "def get_length_accuracy(predictions, labels):\n",
    "    correct = 0\n",
    "    for i, pred in enumerate(predictions):\n",
    "        if pred == len(labels[i]):\n",
    "            correct += 1\n",
    "            \n",
    "    return (correct*1.0) / len(predictions)"
   ]
  },
  {
   "cell_type": "code",
   "execution_count": 30,
   "metadata": {},
   "outputs": [
    {
     "name": "stdout",
     "output_type": "stream",
     "text": [
      "PREDICTIONS: [2 2 1]\n",
      "LABELS: [[1.0, 9.0] [2.0, 3.0] [2.0, 5.0]]\n",
      "[[ 0.  0.  1.  0.  0.  0.  0.]\n",
      " [ 0.  0.  1.  0.  0.  0.  0.]\n",
      " [ 0.  0.  1.  0.  0.  0.  0.]]\n"
     ]
    },
    {
     "data": {
      "image/png": "[encoded data removed]",
      "text/plain": [
       "<matplotlib.figure.Figure at 0x7f9b9eb5bd68>"
      ]
     },
     "metadata": {},
     "output_type": "display_data"
    },
    {
     "data": {
      "image/png": "[encoded data removed]",
      "text/plain": [
       "<matplotlib.figure.Figure at 0x7f9b9eb10978>"
      ]
     },
     "metadata": {},
     "output_type": "display_data"
    },
    {
     "data": {
      "image/png": "[encoded data removed]",
      "text/plain": [
       "<matplotlib.figure.Figure at 0x7f9b9eb37898>"
      ]
     },
     "metadata": {},
     "output_type": "display_data"
    }
   ],
   "source": [
    "test_set    = resized_images[:3]\n",
    "predictions = predict(test_set)\n",
    "\n",
    "print(\"PREDICTIONS: {}\".format(predictions))\n",
    "print(\"LABELS: {}\".format(train_labels[:3]))\n",
    "print(label_lengths[:3])\n",
    "\n",
    "for img in test_set:\n",
    "    fig,ax  = plt.subplots(1)\n",
    "    ax.imshow(img)"
   ]
  },
  {
   "cell_type": "code",
   "execution_count": 31,
   "metadata": {},
   "outputs": [],
   "source": [
    "# Testing\n",
    "test_features = np.load(os.path.join(data_dir, 'test_picture_features.npy'))\n",
    "test_labels   = np.load(os.path.join(data_dir, 'test_picture_labels.npy'))"
   ]
  },
  {
   "cell_type": "code",
   "execution_count": 32,
   "metadata": {},
   "outputs": [],
   "source": [
    "resized_test_images = resize_32x32(test_features)"
   ]
  },
  {
   "cell_type": "code",
   "execution_count": 33,
   "metadata": {},
   "outputs": [],
   "source": [
    "test_predictions = predict(resized_test_images)"
   ]
  },
  {
   "cell_type": "code",
   "execution_count": 34,
   "metadata": {},
   "outputs": [
    {
     "name": "stdout",
     "output_type": "stream",
     "text": [
      "Accuracy: 62.98591980410162\n"
     ]
    }
   ],
   "source": [
    "print(\"Accuracy: {}\".format(get_length_accuracy(test_predictions, test_labels)*100))"
   ]
  },
  {
   "cell_type": "code",
   "execution_count": 35,
   "metadata": {},
   "outputs": [
    {
     "name": "stdout",
     "output_type": "stream",
     "text": [
      "Accuracy: 66.66666666666666\n",
      "1 [5.0]\n",
      "1 [2.0, 1.0, 10.0]\n",
      "1 [6.0]\n"
     ]
    },
    {
     "data": {
      "image/png": "[encoded data removed]",
      "text/plain": [
       "<matplotlib.figure.Figure at 0x7f9c099877b8>"
      ]
     },
     "metadata": {},
     "output_type": "display_data"
    },
    {
     "data": {
      "image/png": "[encoded data removed]",
      "text/plain": [
       "<matplotlib.figure.Figure at 0x7f9bdc6a6f60>"
      ]
     },
     "metadata": {},
     "output_type": "display_data"
    },
    {
     "data": {
      "image/png": "[encoded data removed]",
      "text/plain": [
       "<matplotlib.figure.Figure at 0x7f9c0015aef0>"
      ]
     },
     "metadata": {},
     "output_type": "display_data"
    }
   ],
   "source": [
    "samples     = 3\n",
    "test_set    = resized_test_images[:samples]\n",
    "predictions = predict(test_set)\n",
    "print(\"Accuracy: {}\".format(get_length_accuracy(predictions, test_labels[:samples])*100))\n",
    "\n",
    "for i, img in enumerate(test_set):\n",
    "    print(predictions[i], test_labels[i])\n",
    "    fig,ax  = plt.subplots(1)\n",
    "    ax.imshow(img)"
   ]
  },
  {
   "cell_type": "code",
   "execution_count": null,
   "metadata": {},
   "outputs": [],
   "source": []
  }
 ],
 "metadata": {
  "kernelspec": {
   "display_name": "Python 3",
   "language": "python",
   "name": "python3"
  },
  "language_info": {
   "codemirror_mode": {
    "name": "ipython",
    "version": 3
   },
   "file_extension": ".py",
   "mimetype": "text/x-python",
   "name": "python",
   "nbconvert_exporter": "python",
   "pygments_lexer": "ipython3",
   "version": "3.5.2"
  }
 },
 "nbformat": 4,
 "nbformat_minor": 2
}
