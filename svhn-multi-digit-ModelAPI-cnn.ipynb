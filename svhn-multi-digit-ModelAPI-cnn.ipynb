{
 "cells": [
  {
   "cell_type": "code",
   "execution_count": 24,
   "metadata": {},
   "outputs": [],
   "source": [
    "from keras.layers import Conv1D, Conv2D, MaxPooling1D, MaxPooling2D, GlobalAveragePooling2D\n",
    "from keras.layers import Dropout, Flatten, Dense, Activation, Reshape, Input, Embedding, LSTM, Concatenate\n",
    "from keras.layers.normalization import BatchNormalization\n",
    "from keras.models import Sequential, Model, load_model\n",
    "from keras.utils  import to_categorical\n",
    "from datetime     import datetime\n",
    "import matplotlib.pyplot as plt\n",
    "import numpy as np\n",
    "import cv2\n",
    "import os"
   ]
  },
  {
   "cell_type": "code",
   "execution_count": 2,
   "metadata": {},
   "outputs": [
    {
     "name": "stdout",
     "output_type": "stream",
     "text": [
      "Features: (33402,)\n",
      "Labels (33402,)\n"
     ]
    }
   ],
   "source": [
    "data_dir = 'numpy_arrays'\n",
    "X  = 'train_picture_features.npy'\n",
    "y  = 'train_picture_labels.npy'\n",
    "\n",
    "train_features = np.load(os.path.join(data_dir, X))\n",
    "train_labels   = np.load(os.path.join(data_dir, y))\n",
    "\n",
    "print(\"Features:\",train_features.shape)\n",
    "print(\"Labels\", train_labels.shape)"
   ]
  },
  {
   "cell_type": "code",
   "execution_count": 3,
   "metadata": {},
   "outputs": [
    {
     "name": "stdout",
     "output_type": "stream",
     "text": [
      "(33402, 32, 32, 3)\n",
      "<class 'numpy.ndarray'>\n"
     ]
    }
   ],
   "source": [
    "# Preprocessing features\n",
    "from skimage.transform import resize\n",
    "\n",
    "%matplotlib inline\n",
    "\n",
    "def resize_images(arrays, side_length):\n",
    "    \n",
    "    array_count = arrays.shape[0]\n",
    "    template    = np.zeros((side_length, side_length,3))\n",
    "    all_arrays = []\n",
    "    \n",
    "    for array in arrays:\n",
    "        \n",
    "        #print(array.shape)\n",
    "        height, width = array.shape[0], array.shape[1]\n",
    "        if height > width:\n",
    "            new_height = side_length\n",
    "            diff       = side_length / height\n",
    "            new_width  = width * diff\n",
    "        else:\n",
    "            new_width  = side_length\n",
    "            diff       = side_length / width\n",
    "            new_height = height * diff\n",
    "            \n",
    "            tmp            = resize(array, (int(new_height), int(new_width), 3), mode='constant')\n",
    "            top_padding    = np.zeros((int((side_length - tmp.shape[0]) / 2), side_length, 3))\n",
    "            bottom_padding = np.zeros((int(side_length - top_padding.shape[0] - tmp.shape[0]) , side_length, 3))\n",
    " \n",
    "            #print(top_padding.shape)\n",
    "            #print(tmp.shape)\n",
    "            #print(bottom_padding.shape)\n",
    "            final = np.concatenate((top_padding, tmp, bottom_padding))\n",
    "            #print(final.shape)\n",
    "        \n",
    "        all_arrays.append(final)\n",
    "    \n",
    "    return np.array(all_arrays)\n",
    "\n",
    "def crop(arrays, new_width):\n",
    "    ratio_max = 0.0\n",
    "    ratio_min = np.inf\n",
    "    \n",
    "    for i, array in enumerate(arrays):\n",
    "        print(array.shape)\n",
    "        if i > 20:\n",
    "            break\n",
    "        height, width = array.shape[0], array.shape[1]\n",
    "        ratio = height / (1.0 * width)\n",
    "        ratio_max = max(ratio_max, ratio)\n",
    "        ratio_min = min(ratio_min, ratio)\n",
    "\n",
    "    print(\"MAX: \", ratio_max)\n",
    "    print(\"MIN: \", ratio_min)\n",
    "#################################\n",
    "\n",
    "def resize_32x32(features):\n",
    "    return np.array([resize(f, (32, 32, 3), mode='constant') for f in features])\n",
    "\n",
    "def resize_32x32_grey(features):\n",
    "    return np.array([resize(f, (32, 32, 1), mode='constant') for f in features])\n",
    "\n",
    "def resize_64x64(features):\n",
    "    return np.array([resize(f, (64, 64, 3), mode='constant') for f in features])\n",
    "\n",
    "resized_images = resize_32x32(train_features)\n",
    "\n",
    "print(resized_images.shape)\n",
    "print(type(resized_images))"
   ]
  },
  {
   "cell_type": "code",
   "execution_count": 4,
   "metadata": {},
   "outputs": [
    {
     "name": "stdout",
     "output_type": "stream",
     "text": [
      "[6.0, 0.0, 1.0]\n",
      "(33402,)\n",
      "(33402,)\n",
      "MAX LENGTH: 6\n",
      "[  6.   0.   1.  10.  10.  10.]\n",
      "(33402, 6)\n",
      "[[ 0.  0.  0.  0.  0.  0.  1.  0.  0.  0.  0.]\n",
      " [ 1.  0.  0.  0.  0.  0.  0.  0.  0.  0.  0.]\n",
      " [ 0.  1.  0.  0.  0.  0.  0.  0.  0.  0.  0.]\n",
      " [ 0.  0.  0.  0.  0.  0.  0.  0.  0.  0.  1.]\n",
      " [ 0.  0.  0.  0.  0.  0.  0.  0.  0.  0.  1.]\n",
      " [ 0.  0.  0.  0.  0.  0.  0.  0.  0.  0.  1.]]\n",
      "(33402, 6, 11)\n"
     ]
    }
   ],
   "source": [
    "# Preprocessing targets\n",
    "\n",
    "def list_to_arrays(labels):\n",
    "    return np.array([np.array(label) for label in labels])\n",
    "\n",
    "def remove_val(labels, in_val, out_val):\n",
    "    for label in labels:\n",
    "        label[label == in_val] = out_val\n",
    "    \n",
    "    return labels\n",
    "    #return np.where(labels==in_val, out_val, labels) \n",
    "\n",
    "def pad_labels(train_labels):\n",
    "    print(train_labels.shape)\n",
    "    max_len = 0\n",
    "    \n",
    "    for arr in train_labels:\n",
    "        max_len = max(len(arr), max_len)\n",
    "\n",
    "    print(\"MAX LENGTH: {}\".format(max_len))\n",
    "    \n",
    "    return np.array([arr + ((max_len - len(arr)) * [10.0]) for arr in train_labels])     \n",
    "\n",
    "def one_hot_encoding(labels):\n",
    "    return np.array([ to_categorical(label, num_classes=11) for label in labels])\n",
    "\n",
    "\n",
    "train_labels[24] = [6.0, 0.0, 1.0]\n",
    "print(train_labels[24])\n",
    "print(train_labels.shape)\n",
    "\n",
    "padded_labels = pad_labels(train_labels)\n",
    "print(padded_labels[24])\n",
    "print(padded_labels.shape)\n",
    "\n",
    "encoded_labels = one_hot_encoding(padded_labels)\n",
    "print(encoded_labels[24])\n",
    "print(encoded_labels.shape)"
   ]
  },
  {
   "cell_type": "code",
   "execution_count": 37,
   "metadata": {},
   "outputs": [
    {
     "name": "stdout",
     "output_type": "stream",
     "text": [
      "(6, 33402, 11)\n",
      "(200412, 11)\n"
     ]
    }
   ],
   "source": [
    "#encoded_labels[:, 6]\n",
    "tmp = [encoded_labels[:, i] for i in range(encoded_labels.shape[1])]\n",
    "type(tmp)\n",
    "\n",
    "#print(padded_labels[0])\n",
    "#print(encoded_labels[0])\n",
    "#print(padded_labels[1])\n",
    "#print(encoded_labels[1])\n",
    "\n",
    "#tmp = [label[j] for label in encoded_labels for j in range(len(label))]\n",
    "reordered_array = []\n",
    "for i in range(encoded_labels.shape[1]):\n",
    "    tmp = []\n",
    "\n",
    "    for label in encoded_labels:\n",
    "        #print(label[i])\n",
    "\n",
    "        tmp.append(label[i])\n",
    "    tmp = np.array(tmp)\n",
    "    reordered_array.append(tmp)\n",
    "reordered_array = np.array(reordered_array)\n",
    "\n",
    "print(reordered_array.shape)\n",
    "tmp = np.array([i for i in reordered_array])\n",
    "print(tmp.shape)"
   ]
  },
  {
   "cell_type": "code",
   "execution_count": 84,
   "metadata": {},
   "outputs": [
    {
     "name": "stdout",
     "output_type": "stream",
     "text": [
      "INPUT SHAPE: (33402, 32, 32, 3)\n",
      "OUTPUT SHAPE: (33402, 6, 11)\n"
     ]
    },
    {
     "ename": "TypeError",
     "evalue": "Output tensors to a Model must be Keras tensors. Found: <keras.layers.merge.Concatenate object at 0x7f07997d7f28>",
     "output_type": "error",
     "traceback": [
      "\u001b[0;31m---------------------------------------------------------------------------\u001b[0m",
      "\u001b[0;31mTypeError\u001b[0m                                 Traceback (most recent call last)",
      "\u001b[0;32m<ipython-input-84-44facec3033b>\u001b[0m in \u001b[0;36m<module>\u001b[0;34m()\u001b[0m\n\u001b[1;32m     27\u001b[0m \u001b[0mx\u001b[0m \u001b[0;34m=\u001b[0m \u001b[0mConcatenate\u001b[0m\u001b[0;34m(\u001b[0m\u001b[0;34m[\u001b[0m\u001b[0mdigit1\u001b[0m\u001b[0;34m,\u001b[0m \u001b[0mdigit2\u001b[0m\u001b[0;34m,\u001b[0m \u001b[0mdigit3\u001b[0m\u001b[0;34m,\u001b[0m \u001b[0mdigit4\u001b[0m\u001b[0;34m,\u001b[0m \u001b[0mdigit5\u001b[0m\u001b[0;34m,\u001b[0m \u001b[0mdigit6\u001b[0m\u001b[0;34m]\u001b[0m\u001b[0;34m)\u001b[0m\u001b[0;34m\u001b[0m\u001b[0m\n\u001b[1;32m     28\u001b[0m \u001b[0;34m\u001b[0m\u001b[0m\n\u001b[0;32m---> 29\u001b[0;31m \u001b[0mmodel\u001b[0m \u001b[0;34m=\u001b[0m \u001b[0mModel\u001b[0m\u001b[0;34m(\u001b[0m\u001b[0minputs\u001b[0m\u001b[0;34m=\u001b[0m\u001b[0minputs_\u001b[0m\u001b[0;34m,\u001b[0m \u001b[0moutputs\u001b[0m\u001b[0;34m=\u001b[0m\u001b[0mx\u001b[0m\u001b[0;34m)\u001b[0m\u001b[0;34m\u001b[0m\u001b[0m\n\u001b[0m\u001b[1;32m     30\u001b[0m \u001b[0;31m#model = Model(inputs=inputs_, outputs=[digit1, digit2, digit3, digit4, digit5, digit6])\u001b[0m\u001b[0;34m\u001b[0m\u001b[0;34m\u001b[0m\u001b[0m\n\u001b[1;32m     31\u001b[0m \u001b[0mmodel\u001b[0m\u001b[0;34m.\u001b[0m\u001b[0msummary\u001b[0m\u001b[0;34m(\u001b[0m\u001b[0;34m)\u001b[0m\u001b[0;34m\u001b[0m\u001b[0m\n",
      "\u001b[0;32m/usr/local/lib/python3.5/dist-packages/keras/legacy/interfaces.py\u001b[0m in \u001b[0;36mwrapper\u001b[0;34m(*args, **kwargs)\u001b[0m\n\u001b[1;32m     86\u001b[0m                 warnings.warn('Update your `' + object_name +\n\u001b[1;32m     87\u001b[0m                               '` call to the Keras 2 API: ' + signature, stacklevel=2)\n\u001b[0;32m---> 88\u001b[0;31m             \u001b[0;32mreturn\u001b[0m \u001b[0mfunc\u001b[0m\u001b[0;34m(\u001b[0m\u001b[0;34m*\u001b[0m\u001b[0margs\u001b[0m\u001b[0;34m,\u001b[0m \u001b[0;34m**\u001b[0m\u001b[0mkwargs\u001b[0m\u001b[0;34m)\u001b[0m\u001b[0;34m\u001b[0m\u001b[0m\n\u001b[0m\u001b[1;32m     89\u001b[0m         \u001b[0mwrapper\u001b[0m\u001b[0;34m.\u001b[0m\u001b[0m_legacy_support_signature\u001b[0m \u001b[0;34m=\u001b[0m \u001b[0minspect\u001b[0m\u001b[0;34m.\u001b[0m\u001b[0mgetargspec\u001b[0m\u001b[0;34m(\u001b[0m\u001b[0mfunc\u001b[0m\u001b[0;34m)\u001b[0m\u001b[0;34m\u001b[0m\u001b[0m\n\u001b[1;32m     90\u001b[0m         \u001b[0;32mreturn\u001b[0m \u001b[0mwrapper\u001b[0m\u001b[0;34m\u001b[0m\u001b[0m\n",
      "\u001b[0;32m/usr/local/lib/python3.5/dist-packages/keras/engine/topology.py\u001b[0m in \u001b[0;36m__init__\u001b[0;34m(self, inputs, outputs, name)\u001b[0m\n\u001b[1;32m   1516\u001b[0m                 \u001b[0mcls_name\u001b[0m \u001b[0;34m=\u001b[0m \u001b[0mself\u001b[0m\u001b[0;34m.\u001b[0m\u001b[0m__class__\u001b[0m\u001b[0;34m.\u001b[0m\u001b[0m__name__\u001b[0m\u001b[0;34m\u001b[0m\u001b[0m\n\u001b[1;32m   1517\u001b[0m                 raise TypeError('Output tensors to a ' + cls_name + ' must be '\n\u001b[0;32m-> 1518\u001b[0;31m                                 'Keras tensors. Found: ' + str(x))\n\u001b[0m\u001b[1;32m   1519\u001b[0m         \u001b[0;31m# Build self.output_layers:\u001b[0m\u001b[0;34m\u001b[0m\u001b[0;34m\u001b[0m\u001b[0m\n\u001b[1;32m   1520\u001b[0m         \u001b[0;32mfor\u001b[0m \u001b[0mx\u001b[0m \u001b[0;32min\u001b[0m \u001b[0mself\u001b[0m\u001b[0;34m.\u001b[0m\u001b[0moutputs\u001b[0m\u001b[0;34m:\u001b[0m\u001b[0;34m\u001b[0m\u001b[0m\n",
      "\u001b[0;31mTypeError\u001b[0m: Output tensors to a Model must be Keras tensors. Found: <keras.layers.merge.Concatenate object at 0x7f07997d7f28>"
     ]
    }
   ],
   "source": [
    "features = resized_images\n",
    "targets = encoded_labels\n",
    "#targets = padded_labels\n",
    "#targets = reordered_array\n",
    "\n",
    "print(\"INPUT SHAPE: {}\".format(features.shape))\n",
    "print(\"OUTPUT SHAPE: {}\".format(targets.shape))\n",
    "\n",
    "#inputs_ = Input(shape=(3,))\n",
    "inputs_ = Input(shape=(32,32,3))\n",
    "\n",
    "x = Conv2D(32, (3, 3), activation='relu', padding='same')(inputs_)\n",
    "x = MaxPooling2D(pool_size=(2, 2))(x) \n",
    "x = Dropout(0.25)(x)\n",
    "\n",
    "x = Flatten()(x)\n",
    "\n",
    "x = Dense(512, activation='relu')(x)\n",
    "\n",
    "digit1 = Dense(11, activation='softmax')(x)\n",
    "digit2 = Dense(11, activation='softmax')(x)\n",
    "digit3 = Dense(11, activation='softmax')(x)\n",
    "digit4 = Dense(11, activation='softmax')(x)\n",
    "digit5 = Dense(11, activation='softmax')(x)\n",
    "digit6 = Dense(11, activation='softmax')(x)\n",
    "\n",
    "\n",
    "\n",
    "model = Model(inputs=inputs_, outputs=[digit1, digit2, digit3, digit4, digit5, digit6])\n",
    "model.summary()"
   ]
  },
  {
   "cell_type": "code",
   "execution_count": 81,
   "metadata": {
    "scrolled": true
   },
   "outputs": [
    {
     "name": "stdout",
     "output_type": "stream",
     "text": [
      "MODEL FILE: models/model_multi_ModelAPI_2epochs_20190701_174630.hdf5\n"
     ]
    },
    {
     "ename": "ValueError",
     "evalue": "The model expects 6 input arrays, but only received one array. Found: array with shape (33402, 6, 11)",
     "output_type": "error",
     "traceback": [
      "\u001b[0;31m---------------------------------------------------------------------------\u001b[0m",
      "\u001b[0;31mValueError\u001b[0m                                Traceback (most recent call last)",
      "\u001b[0;32m<ipython-input-81-f19f566be192>\u001b[0m in \u001b[0;36m<module>\u001b[0;34m()\u001b[0m\n\u001b[1;32m     16\u001b[0m           \u001b[0mbatch_size\u001b[0m\u001b[0;34m=\u001b[0m\u001b[0;36m20\u001b[0m\u001b[0;34m,\u001b[0m\u001b[0;34m\u001b[0m\u001b[0m\n\u001b[1;32m     17\u001b[0m           \u001b[0mcallbacks\u001b[0m\u001b[0;34m=\u001b[0m\u001b[0;34m[\u001b[0m\u001b[0mcheckpointer\u001b[0m\u001b[0;34m]\u001b[0m\u001b[0;34m,\u001b[0m\u001b[0;34m\u001b[0m\u001b[0m\n\u001b[0;32m---> 18\u001b[0;31m           verbose=1)\n\u001b[0m",
      "\u001b[0;32m/usr/local/lib/python3.5/dist-packages/keras/engine/training.py\u001b[0m in \u001b[0;36mfit\u001b[0;34m(self, x, y, batch_size, epochs, verbose, callbacks, validation_split, validation_data, shuffle, class_weight, sample_weight, initial_epoch, **kwargs)\u001b[0m\n\u001b[1;32m   1403\u001b[0m             \u001b[0mclass_weight\u001b[0m\u001b[0;34m=\u001b[0m\u001b[0mclass_weight\u001b[0m\u001b[0;34m,\u001b[0m\u001b[0;34m\u001b[0m\u001b[0m\n\u001b[1;32m   1404\u001b[0m             \u001b[0mcheck_batch_axis\u001b[0m\u001b[0;34m=\u001b[0m\u001b[0;32mFalse\u001b[0m\u001b[0;34m,\u001b[0m\u001b[0;34m\u001b[0m\u001b[0m\n\u001b[0;32m-> 1405\u001b[0;31m             batch_size=batch_size)\n\u001b[0m\u001b[1;32m   1406\u001b[0m         \u001b[0;31m# prepare validation data\u001b[0m\u001b[0;34m\u001b[0m\u001b[0;34m\u001b[0m\u001b[0m\n\u001b[1;32m   1407\u001b[0m         \u001b[0;32mif\u001b[0m \u001b[0mvalidation_data\u001b[0m\u001b[0;34m:\u001b[0m\u001b[0;34m\u001b[0m\u001b[0m\n",
      "\u001b[0;32m/usr/local/lib/python3.5/dist-packages/keras/engine/training.py\u001b[0m in \u001b[0;36m_standardize_user_data\u001b[0;34m(self, x, y, sample_weight, class_weight, check_batch_axis, batch_size)\u001b[0m\n\u001b[1;32m   1297\u001b[0m                                     \u001b[0moutput_shapes\u001b[0m\u001b[0;34m,\u001b[0m\u001b[0;34m\u001b[0m\u001b[0m\n\u001b[1;32m   1298\u001b[0m                                     \u001b[0mcheck_batch_axis\u001b[0m\u001b[0;34m=\u001b[0m\u001b[0;32mFalse\u001b[0m\u001b[0;34m,\u001b[0m\u001b[0;34m\u001b[0m\u001b[0m\n\u001b[0;32m-> 1299\u001b[0;31m                                     exception_prefix='model target')\n\u001b[0m\u001b[1;32m   1300\u001b[0m         sample_weights = _standardize_sample_weights(sample_weight,\n\u001b[1;32m   1301\u001b[0m                                                      self._feed_output_names)\n",
      "\u001b[0;32m/usr/local/lib/python3.5/dist-packages/keras/engine/training.py\u001b[0m in \u001b[0;36m_standardize_input_data\u001b[0;34m(data, names, shapes, check_batch_axis, exception_prefix)\u001b[0m\n\u001b[1;32m     98\u001b[0m             raise ValueError('The model expects ' + str(len(names)) +\n\u001b[1;32m     99\u001b[0m                              \u001b[0;34m' input arrays, but only received one array. '\u001b[0m\u001b[0;34m\u001b[0m\u001b[0m\n\u001b[0;32m--> 100\u001b[0;31m                              'Found: array with shape ' + str(data.shape))\n\u001b[0m\u001b[1;32m    101\u001b[0m         \u001b[0marrays\u001b[0m \u001b[0;34m=\u001b[0m \u001b[0;34m[\u001b[0m\u001b[0mdata\u001b[0m\u001b[0;34m]\u001b[0m\u001b[0;34m\u001b[0m\u001b[0m\n\u001b[1;32m    102\u001b[0m \u001b[0;34m\u001b[0m\u001b[0m\n",
      "\u001b[0;31mValueError\u001b[0m: The model expects 6 input arrays, but only received one array. Found: array with shape (33402, 6, 11)"
     ]
    }
   ],
   "source": [
    "model.compile(optimizer='rmsprop', loss='categorical_crossentropy', metrics=['accuracy'])\n",
    "\n",
    "from keras.callbacks import ModelCheckpoint\n",
    "\n",
    "epochs     = 2\n",
    "time_now   = datetime.now().strftime(\"%Y%m%d_%H%M%S\")\n",
    "model_path = os.path.join('models', 'model_multi_ModelAPI_' + str(epochs) + 'epochs_' + time_now +'.hdf5')\n",
    "\n",
    "print(\"MODEL FILE: {}\".format(model_path))\n",
    "\n",
    "checkpointer = ModelCheckpoint(filepath=model_path, \n",
    "                               verbose=1, save_best_only=True, monitor='acc',)\n",
    "\n",
    "model.fit(features, targets\n",
    "          , epochs=epochs, \n",
    "          batch_size=20, \n",
    "          callbacks=[checkpointer], \n",
    "          verbose=1)\n"
   ]
  },
  {
   "cell_type": "code",
   "execution_count": 34,
   "metadata": {},
   "outputs": [
    {
     "name": "stdout",
     "output_type": "stream",
     "text": [
      "6229222261\n",
      "19\n",
      "[6, 2, 2, 9, 2, 2, 2, 2, 6, 1] [1.0, 9.0]\n",
      "3363336336\n",
      "23\n",
      "[3, 3, 6, 3, 3, 3, 6, 3, 3, 6] [2.0, 3.0]\n",
      "919\n",
      "25\n",
      "[10, 10, 9, 10, 10, 10, 10, 1, 9, 10] [2.0, 5.0]\n",
      "\n",
      "93\n",
      "[10, 10, 10, 10, 10, 10, 10, 10, 10, 10] [9.0, 3.0]\n",
      "\n",
      "31\n",
      "[10, 10, 10, 10, 10, 10, 10, 10, 10, 10] [3.0, 1.0]\n",
      "\n",
      "33\n",
      "[10, 10, 10, 10, 10, 10, 10, 10, 10, 10] [3.0, 3.0]\n"
     ]
    },
    {
     "data": {
      "image/png": "[encoded data removed]",
      "text/plain": [
       "<matplotlib.figure.Figure at 0x7f07e028e668>"
      ]
     },
     "metadata": {},
     "output_type": "display_data"
    },
    {
     "data": {
      "image/png": "[encoded data removed]",
      "text/plain": [
       "<matplotlib.figure.Figure at 0x7f07e3fc3da0>"
      ]
     },
     "metadata": {},
     "output_type": "display_data"
    },
    {
     "data": {
      "image/png": "[encoded data removed]",
      "text/plain": [
       "<matplotlib.figure.Figure at 0x7f07cc735b00>"
      ]
     },
     "metadata": {},
     "output_type": "display_data"
    },
    {
     "data": {
      "image/png": "[encoded data removed]",
      "text/plain": [
       "<matplotlib.figure.Figure at 0x7f07cc6a2080>"
      ]
     },
     "metadata": {},
     "output_type": "display_data"
    },
    {
     "data": {
      "image/png": "[encoded data removed]",
      "text/plain": [
       "<matplotlib.figure.Figure at 0x7f07cc659588>"
      ]
     },
     "metadata": {},
     "output_type": "display_data"
    },
    {
     "data": {
      "image/png": "[encoded data removed]",
      "text/plain": [
       "<matplotlib.figure.Figure at 0x7f07cc60b8d0>"
      ]
     },
     "metadata": {},
     "output_type": "display_data"
    },
    {
     "data": {
      "image/png": "[encoded data removed]",
      "text/plain": [
       "<matplotlib.figure.Figure at 0x7f07cc63fdd8>"
      ]
     },
     "metadata": {},
     "output_type": "display_data"
    },
    {
     "data": {
      "image/png": "[encoded data removed]",
      "text/plain": [
       "<matplotlib.figure.Figure at 0x7f07cc5f52b0>"
      ]
     },
     "metadata": {},
     "output_type": "display_data"
    },
    {
     "data": {
      "image/png": "[encoded data removed]",
      "text/plain": [
       "<matplotlib.figure.Figure at 0x7f07cc5ad7b8>"
      ]
     },
     "metadata": {},
     "output_type": "display_data"
    },
    {
     "data": {
      "image/png": "[encoded data removed]",
      "text/plain": [
       "<matplotlib.figure.Figure at 0x7f07cc55fc50>"
      ]
     },
     "metadata": {},
     "output_type": "display_data"
    }
   ],
   "source": [
    "def predict(array_set):\n",
    "    y_pred      = model.predict(array_set)\n",
    "    all_preds   = []\n",
    "    for pred_label in y_pred:\n",
    "        int_array = [np.argmax(i) for i in pred_label]\n",
    "        all_preds.append(int_array)\n",
    "        #print(int_array)\n",
    "    return all_preds\n",
    "\n",
    "def get_accuracy(predictions, labels):\n",
    "    correct = 0\n",
    "    for i, pred in enumerate(predictions):\n",
    "        pred_str  = \"\".join([str(p) for p in pred if p != 10])\n",
    "        label_str = \"\".join([str(int(j)) for j in labels[i]])\n",
    "        #print(pred_str, label_str)\n",
    "        if pred_str == label_str:\n",
    "            correct += 1\n",
    "    return (correct*1.0) / len(predictions)\n",
    "    \n",
    "test_set    = resized_images[:10]\n",
    "predictions = predict(test_set)\n",
    "\n",
    "for i, pred in enumerate(predictions):\n",
    "    pred_str  = \"\".join([str(p) for p in pred if p != 10])\n",
    "    label_str = \"\".join([str(int(j)) for j in train_labels[i]])\n",
    "#    if pred_str == label_str:\n",
    "#        print(\"MATCH\")\n",
    "    print(pred_str)\n",
    "    print(label_str)\n",
    "    print(pred, train_labels[i])\n",
    "\n",
    "for img in test_set:\n",
    "    fig,ax  = plt.subplots(1)\n",
    "    ax.imshow(img)"
   ]
  },
  {
   "cell_type": "code",
   "execution_count": null,
   "metadata": {},
   "outputs": [],
   "source": [
    "# Testing\n",
    "test_features = np.load(os.path.join(data_dir, 'test_picture_features.npy'))\n",
    "test_labels   = np.load(os.path.join(data_dir, 'test_picture_labels.npy'))"
   ]
  },
  {
   "cell_type": "code",
   "execution_count": null,
   "metadata": {},
   "outputs": [],
   "source": [
    "resized_test_images = resize_32x32(test_features)"
   ]
  },
  {
   "cell_type": "code",
   "execution_count": 15,
   "metadata": {},
   "outputs": [],
   "source": [
    "test_predictions = predict(resized_test_images)"
   ]
  },
  {
   "cell_type": "code",
   "execution_count": 20,
   "metadata": {},
   "outputs": [
    {
     "name": "stdout",
     "output_type": "stream",
     "text": [
      "Accuracy: 17.77624732170187\n"
     ]
    }
   ],
   "source": [
    "print(\"Accuracy: {}\".format(get_accuracy(test_predictions, test_labels)*100))"
   ]
  },
  {
   "cell_type": "code",
   "execution_count": 19,
   "metadata": {},
   "outputs": [],
   "source": [
    "def predict_model(model, test_array):\n",
    "    model     = load_model(model)\n",
    "    y_pred    = model.predict(array_set)\n",
    "    all_preds = []\n",
    "    for pred_label in y_pred:\n",
    "        int_array = [np.argmax(i) for i in pred_label]\n",
    "        all_preds.append(int_array)\n",
    "    return model, all_preds"
   ]
  }
 ],
 "metadata": {
  "kernelspec": {
   "display_name": "Python 3",
   "language": "python",
   "name": "python3"
  },
  "language_info": {
   "codemirror_mode": {
    "name": "ipython",
    "version": 3
   },
   "file_extension": ".py",
   "mimetype": "text/x-python",
   "name": "python",
   "nbconvert_exporter": "python",
   "pygments_lexer": "ipython3",
   "version": "3.5.2"
  }
 },
 "nbformat": 4,
 "nbformat_minor": 2
}
