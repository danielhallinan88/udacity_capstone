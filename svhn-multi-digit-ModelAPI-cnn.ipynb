{
 "cells": [
  {
   "cell_type": "code",
   "execution_count": 1,
   "metadata": {},
   "outputs": [
    {
     "name": "stderr",
     "output_type": "stream",
     "text": [
      "Using TensorFlow backend.\n"
     ]
    }
   ],
   "source": [
    "from keras.layers import Conv1D, Conv2D, MaxPooling1D, MaxPooling2D, GlobalAveragePooling2D\n",
    "from keras.layers import Dropout, Flatten, Dense, Activation, Reshape, Input, Embedding, LSTM, Concatenate\n",
    "from keras.layers.normalization import BatchNormalization\n",
    "from keras.models import Sequential, Model, load_model\n",
    "from keras.utils  import to_categorical\n",
    "from datetime     import datetime\n",
    "import matplotlib.pyplot as plt\n",
    "import numpy as np\n",
    "import cv2\n",
    "import os"
   ]
  },
  {
   "cell_type": "code",
   "execution_count": 2,
   "metadata": {},
   "outputs": [
    {
     "name": "stdout",
     "output_type": "stream",
     "text": [
      "Features: (33402,)\n",
      "Labels (33402,)\n"
     ]
    }
   ],
   "source": [
    "data_dir = 'numpy_arrays'\n",
    "X  = 'train_picture_features.npy'\n",
    "y  = 'train_picture_labels.npy'\n",
    "\n",
    "train_features = np.load(os.path.join(data_dir, X))\n",
    "train_labels   = np.load(os.path.join(data_dir, y))\n",
    "\n",
    "print(\"Features:\",train_features.shape)\n",
    "print(\"Labels\", train_labels.shape)"
   ]
  },
  {
   "cell_type": "code",
   "execution_count": 3,
   "metadata": {},
   "outputs": [
    {
     "name": "stdout",
     "output_type": "stream",
     "text": [
      "(33402, 32, 32, 3)\n",
      "<class 'numpy.ndarray'>\n"
     ]
    }
   ],
   "source": [
    "# Preprocessing features\n",
    "from skimage.transform import resize\n",
    "\n",
    "%matplotlib inline\n",
    "\n",
    "def resize_images(arrays, side_length):\n",
    "    \n",
    "    array_count = arrays.shape[0]\n",
    "    template    = np.zeros((side_length, side_length,3))\n",
    "    all_arrays = []\n",
    "    \n",
    "    for array in arrays:\n",
    "        \n",
    "        #print(array.shape)\n",
    "        height, width = array.shape[0], array.shape[1]\n",
    "        if height > width:\n",
    "            new_height = side_length\n",
    "            diff       = side_length / height\n",
    "            new_width  = width * diff\n",
    "        else:\n",
    "            new_width  = side_length\n",
    "            diff       = side_length / width\n",
    "            new_height = height * diff\n",
    "            \n",
    "            tmp            = resize(array, (int(new_height), int(new_width), 3), mode='constant')\n",
    "            top_padding    = np.zeros((int((side_length - tmp.shape[0]) / 2), side_length, 3))\n",
    "            bottom_padding = np.zeros((int(side_length - top_padding.shape[0] - tmp.shape[0]) , side_length, 3))\n",
    " \n",
    "            #print(top_padding.shape)\n",
    "            #print(tmp.shape)\n",
    "            #print(bottom_padding.shape)\n",
    "            final = np.concatenate((top_padding, tmp, bottom_padding))\n",
    "            #print(final.shape)\n",
    "        \n",
    "        all_arrays.append(final)\n",
    "    \n",
    "    return np.array(all_arrays)\n",
    "\n",
    "def crop(arrays, new_width):\n",
    "    ratio_max = 0.0\n",
    "    ratio_min = np.inf\n",
    "    \n",
    "    for i, array in enumerate(arrays):\n",
    "        print(array.shape)\n",
    "        if i > 20:\n",
    "            break\n",
    "        height, width = array.shape[0], array.shape[1]\n",
    "        ratio = height / (1.0 * width)\n",
    "        ratio_max = max(ratio_max, ratio)\n",
    "        ratio_min = min(ratio_min, ratio)\n",
    "\n",
    "    print(\"MAX: \", ratio_max)\n",
    "    print(\"MIN: \", ratio_min)\n",
    "#################################\n",
    "\n",
    "def resize_32x32(features):\n",
    "    return np.array([resize(f, (32, 32, 3), mode='constant') for f in features])\n",
    "\n",
    "def resize_32x32_grey(features):\n",
    "    return np.array([resize(f, (32, 32, 1), mode='constant') for f in features])\n",
    "\n",
    "def resize_64x64(features):\n",
    "    return np.array([resize(f, (64, 64, 3), mode='constant') for f in features])\n",
    "\n",
    "resized_images = resize_32x32(train_features)\n",
    "\n",
    "print(resized_images.shape)\n",
    "print(type(resized_images))"
   ]
  },
  {
   "cell_type": "code",
   "execution_count": 4,
   "metadata": {},
   "outputs": [
    {
     "name": "stdout",
     "output_type": "stream",
     "text": [
      "[6.0, 0.0, 1.0]\n",
      "(33402,)\n",
      "(33402,)\n",
      "MAX LENGTH: 6\n",
      "[  6.   0.   1.  10.  10.  10.]\n",
      "(33402, 6)\n",
      "[[ 0.  0.  0.  0.  0.  0.  1.  0.  0.  0.  0.]\n",
      " [ 1.  0.  0.  0.  0.  0.  0.  0.  0.  0.  0.]\n",
      " [ 0.  1.  0.  0.  0.  0.  0.  0.  0.  0.  0.]\n",
      " [ 0.  0.  0.  0.  0.  0.  0.  0.  0.  0.  1.]\n",
      " [ 0.  0.  0.  0.  0.  0.  0.  0.  0.  0.  1.]\n",
      " [ 0.  0.  0.  0.  0.  0.  0.  0.  0.  0.  1.]]\n",
      "(33402, 6, 11)\n"
     ]
    }
   ],
   "source": [
    "# Preprocessing targets\n",
    "\n",
    "def list_to_arrays(labels):\n",
    "    return np.array([np.array(label) for label in labels])\n",
    "\n",
    "def remove_val(labels, in_val, out_val):\n",
    "    for label in labels:\n",
    "        label[label == in_val] = out_val\n",
    "    \n",
    "    return labels\n",
    "    #return np.where(labels==in_val, out_val, labels) \n",
    "\n",
    "def pad_labels(train_labels):\n",
    "    print(train_labels.shape)\n",
    "    max_len = 0\n",
    "    \n",
    "    for arr in train_labels:\n",
    "        max_len = max(len(arr), max_len)\n",
    "\n",
    "    print(\"MAX LENGTH: {}\".format(max_len))\n",
    "    \n",
    "    return np.array([arr + ((max_len - len(arr)) * [10.0]) for arr in train_labels])     \n",
    "\n",
    "def one_hot_encoding(labels):\n",
    "    return np.array([ to_categorical(label, num_classes=11) for label in labels])\n",
    "\n",
    "\n",
    "train_labels[24] = [6.0, 0.0, 1.0]\n",
    "print(train_labels[24])\n",
    "print(train_labels.shape)\n",
    "\n",
    "padded_labels = pad_labels(train_labels)\n",
    "print(padded_labels[24])\n",
    "print(padded_labels.shape)\n",
    "\n",
    "encoded_labels = one_hot_encoding(padded_labels)\n",
    "print(encoded_labels[24])\n",
    "print(encoded_labels.shape)"
   ]
  },
  {
   "cell_type": "code",
   "execution_count": 6,
   "metadata": {},
   "outputs": [
    {
     "name": "stdout",
     "output_type": "stream",
     "text": [
      "(6, 33402, 11)\n"
     ]
    }
   ],
   "source": [
    "#encoded_labels[:, 6]\n",
    "tmp = [encoded_labels[:, i] for i in range(encoded_labels.shape[1])]\n",
    "type(tmp)\n",
    "\n",
    "#print(padded_labels[0])\n",
    "#print(encoded_labels[0])\n",
    "#print(padded_labels[1])\n",
    "#print(encoded_labels[1])\n",
    "\n",
    "#tmp = [label[j] for label in encoded_labels for j in range(len(label))]\n",
    "reordered_array = []\n",
    "for i in range(encoded_labels.shape[1]):\n",
    "    tmp = []\n",
    "\n",
    "    for label in encoded_labels:\n",
    "        #print(label[i])\n",
    "\n",
    "        tmp.append(label[i])\n",
    "    tmp = np.array(tmp)\n",
    "    reordered_array.append(tmp)\n",
    "reordered_array = np.array(reordered_array)\n",
    "\n",
    "print(reordered_array.shape)\n",
    "#tmp = [i for i in reordered_array]\n",
    "#print(tmp.shape)"
   ]
  },
  {
   "cell_type": "code",
   "execution_count": 13,
   "metadata": {},
   "outputs": [
    {
     "name": "stdout",
     "output_type": "stream",
     "text": [
      "INPUT SHAPE: (33402, 32, 32, 3)\n",
      "____________________________________________________________________________________________________\n",
      "Layer (type)                     Output Shape          Param #     Connected to                     \n",
      "====================================================================================================\n",
      "input_3 (InputLayer)             (None, 32, 32, 3)     0                                            \n",
      "____________________________________________________________________________________________________\n",
      "conv2d_3 (Conv2D)                (None, 32, 32, 32)    896                                          \n",
      "____________________________________________________________________________________________________\n",
      "batch_normalization_2 (BatchNorm (None, 32, 32, 32)    128                                          \n",
      "____________________________________________________________________________________________________\n",
      "max_pooling2d_3 (MaxPooling2D)   (None, 16, 16, 32)    0                                            \n",
      "____________________________________________________________________________________________________\n",
      "dropout_3 (Dropout)              (None, 16, 16, 32)    0                                            \n",
      "____________________________________________________________________________________________________\n",
      "flatten_3 (Flatten)              (None, 8192)          0                                            \n",
      "____________________________________________________________________________________________________\n",
      "dense_15 (Dense)                 (None, 512)           4194816                                      \n",
      "____________________________________________________________________________________________________\n",
      "dense_16 (Dense)                 (None, 11)            5643                                         \n",
      "____________________________________________________________________________________________________\n",
      "dense_17 (Dense)                 (None, 11)            5643                                         \n",
      "____________________________________________________________________________________________________\n",
      "dense_18 (Dense)                 (None, 11)            5643                                         \n",
      "____________________________________________________________________________________________________\n",
      "dense_19 (Dense)                 (None, 11)            5643                                         \n",
      "____________________________________________________________________________________________________\n",
      "dense_20 (Dense)                 (None, 11)            5643                                         \n",
      "____________________________________________________________________________________________________\n",
      "dense_21 (Dense)                 (None, 11)            5643                                         \n",
      "====================================================================================================\n",
      "Total params: 4,229,698.0\n",
      "Trainable params: 4,229,634.0\n",
      "Non-trainable params: 64.0\n",
      "____________________________________________________________________________________________________\n"
     ]
    },
    {
     "name": "stderr",
     "output_type": "stream",
     "text": [
      "/usr/local/lib/python3.5/dist-packages/ipykernel_launcher.py:43: UserWarning: Update your `Model` call to the Keras 2 API: `Model(inputs=Tensor(\"in..., outputs=[<tf.Tenso...)`\n"
     ]
    }
   ],
   "source": [
    "features = resized_images\n",
    "targets = [encoded_labels[:, i] for i in range(6)]\n",
    "#targets = encoded_labels\n",
    "#targets = padded_labels\n",
    "#targets = reordered_array\n",
    "\n",
    "print(\"INPUT SHAPE: {}\".format(features.shape))\n",
    "\n",
    "inputs_ = Input(shape=(32,32,3))\n",
    "x = inputs_\n",
    "\n",
    "x = Conv2D(32, (3, 3), activation='relu', padding='same')(x)\n",
    "x = BatchNormalization()(x)\n",
    "x = MaxPooling2D(pool_size=(2, 2))(x) \n",
    "x = Dropout(0.25)(x)\n",
    "\"\"\"\n",
    "x = Conv2D(48, (3, 3), activation='relu', padding='same')(x)\n",
    "x = BatchNormalization()(x)\n",
    "x = MaxPooling2D(pool_size=(2, 2), strides=(2, 2))(x) \n",
    "x = Dropout(0.25)(x)\n",
    "\n",
    "x = Conv2D(48, (3, 3), activation='relu', padding='same')(x)\n",
    "x = BatchNormalization()(x)\n",
    "x = MaxPooling2D(pool_size=(2, 2), strides=(1, 1))(x) \n",
    "x = Dropout(0.25)(x)\n",
    "\n",
    "x = Conv2D(48, (3, 3), activation='relu', padding='same')(x)\n",
    "x = BatchNormalization()(x)\n",
    "x = MaxPooling2D(pool_size=(2, 2), strides=(1, 1))(x) \n",
    "x = Dropout(0.25)(x)\n",
    "\"\"\"\n",
    "###########################################\n",
    "x = Flatten()(x)\n",
    "x = Dense(512, activation='relu')(x)\n",
    "\n",
    "digit1 = Dense(11, activation='softmax')(x)\n",
    "digit2 = Dense(11, activation='softmax')(x)\n",
    "digit3 = Dense(11, activation='softmax')(x)\n",
    "digit4 = Dense(11, activation='softmax')(x)\n",
    "digit5 = Dense(11, activation='softmax')(x)\n",
    "digit6 = Dense(11, activation='softmax')(x)\n",
    "\n",
    "model = Model(input=inputs_, outputs=[digit1, digit2, digit3, digit4, digit5, digit6])\n",
    "model.summary()"
   ]
  },
  {
   "cell_type": "code",
   "execution_count": 19,
   "metadata": {
    "scrolled": true
   },
   "outputs": [
    {
     "name": "stdout",
     "output_type": "stream",
     "text": [
      "MODEL FILE: models/model_multi_ModelAPI_20epochs_20190702_021144.hdf5\n",
      "Train on 25051 samples, validate on 8351 samples\n",
      "Epoch 1/20\n",
      "25051/25051 [==============================] - 128s - loss: 11.9794 - dense_16_loss: 4.2639 - dense_17_loss: 4.7592 - dense_18_loss: 2.5060 - dense_19_loss: 0.4465 - dense_20_loss: 0.0039 - dense_21_loss: 1.1921e-07 - dense_16_acc: 0.3457 - dense_17_acc: 0.2858 - dense_18_acc: 0.6877 - dense_19_acc: 0.9549 - dense_20_acc: 0.9998 - dense_21_acc: 1.0000 - val_loss: 27.0716 - val_dense_16_loss: 10.7030 - val_dense_17_loss: 11.5573 - val_dense_18_loss: 4.2111 - val_dense_19_loss: 0.5925 - val_dense_20_loss: 0.0058 - val_dense_21_loss: 0.0019 - val_dense_16_acc: 0.2909 - val_dense_17_acc: 0.1783 - val_dense_18_acc: 0.7331 - val_dense_19_acc: 0.9632 - val_dense_20_acc: 0.9996 - val_dense_21_acc: 0.9999\n",
      "Epoch 2/20\n",
      "   32/25051 [..............................] - ETA: 123s - loss: 23.9512 - dense_16_loss: 6.7194 - dense_17_loss: 11.1875 - dense_18_loss: 4.5332 - dense_19_loss: 1.5111 - dense_20_loss: 1.1921e-07 - dense_21_loss: 1.1921e-07 - dense_16_acc: 0.4375 - dense_17_acc: 0.2188 - dense_18_acc: 0.7188 - dense_19_acc: 0.9062 - dense_20_acc: 1.0000 - dense_21_acc: 1.0000"
     ]
    },
    {
     "name": "stderr",
     "output_type": "stream",
     "text": [
      "/usr/local/lib/python3.5/dist-packages/keras/callbacks.py:388: RuntimeWarning: Can save best model only with acc available, skipping.\n",
      "  'skipping.' % (self.monitor), RuntimeWarning)\n"
     ]
    },
    {
     "name": "stdout",
     "output_type": "stream",
     "text": [
      "25051/25051 [==============================] - 129s - loss: 27.4444 - dense_16_loss: 10.8049 - dense_17_loss: 11.7587 - dense_18_loss: 4.2850 - dense_19_loss: 0.5919 - dense_20_loss: 0.0039 - dense_21_loss: 1.1921e-07 - dense_16_acc: 0.2933 - dense_17_acc: 0.2507 - dense_18_acc: 0.7337 - dense_19_acc: 0.9633 - dense_20_acc: 0.9998 - dense_21_acc: 1.0000 - val_loss: 28.5090 - val_dense_16_loss: 11.5128 - val_dense_17_loss: 12.1402 - val_dense_18_loss: 4.2558 - val_dense_19_loss: 0.5925 - val_dense_20_loss: 0.0058 - val_dense_21_loss: 0.0019 - val_dense_16_acc: 0.2746 - val_dense_17_acc: 0.2468 - val_dense_18_acc: 0.7360 - val_dense_19_acc: 0.9632 - val_dense_20_acc: 0.9996 - val_dense_21_acc: 0.9999\n",
      "Epoch 3/20\n",
      "25051/25051 [==============================] - 135s - loss: 28.4412 - dense_16_loss: 11.5928 - dense_17_loss: 11.9739 - dense_18_loss: 4.2787 - dense_19_loss: 0.5919 - dense_20_loss: 0.0039 - dense_21_loss: 1.1921e-07 - dense_16_acc: 0.2785 - dense_17_acc: 0.2571 - dense_18_acc: 0.7345 - dense_19_acc: 0.9633 - dense_20_acc: 0.9998 - dense_21_acc: 1.0000 - val_loss: 28.7254 - val_dense_16_loss: 11.7291 - val_dense_17_loss: 12.1402 - val_dense_18_loss: 4.2558 - val_dense_19_loss: 0.5925 - val_dense_20_loss: 0.0058 - val_dense_21_loss: 0.0019 - val_dense_16_acc: 0.2723 - val_dense_17_acc: 0.2468 - val_dense_18_acc: 0.7360 - val_dense_19_acc: 0.9632 - val_dense_20_acc: 0.9996 - val_dense_21_acc: 0.9999\n",
      "Epoch 4/20\n",
      "25051/25051 [==============================] - 144s - loss: 28.4819 - dense_16_loss: 11.6342 - dense_17_loss: 11.9732 - dense_18_loss: 4.2787 - dense_19_loss: 0.5919 - dense_20_loss: 0.0039 - dense_21_loss: 1.1921e-07 - dense_16_acc: 0.2782 - dense_17_acc: 0.2572 - dense_18_acc: 0.7345 - dense_19_acc: 0.9633 - dense_20_acc: 0.9998 - dense_21_acc: 1.0000 - val_loss: 28.7254 - val_dense_16_loss: 11.7291 - val_dense_17_loss: 12.1402 - val_dense_18_loss: 4.2558 - val_dense_19_loss: 0.5925 - val_dense_20_loss: 0.0058 - val_dense_21_loss: 0.0019 - val_dense_16_acc: 0.2723 - val_dense_17_acc: 0.2468 - val_dense_18_acc: 0.7360 - val_dense_19_acc: 0.9632 - val_dense_20_acc: 0.9996 - val_dense_21_acc: 0.9999\n",
      "Epoch 5/20\n",
      "25051/25051 [==============================] - 146s - loss: 28.4997 - dense_16_loss: 11.6513 - dense_17_loss: 11.9739 - dense_18_loss: 4.2787 - dense_19_loss: 0.5919 - dense_20_loss: 0.0039 - dense_21_loss: 1.1921e-07 - dense_16_acc: 0.2758 - dense_17_acc: 0.2571 - dense_18_acc: 0.7345 - dense_19_acc: 0.9633 - dense_20_acc: 0.9998 - dense_21_acc: 1.0000 - val_loss: 28.7234 - val_dense_16_loss: 11.7272 - val_dense_17_loss: 12.1402 - val_dense_18_loss: 4.2558 - val_dense_19_loss: 0.5925 - val_dense_20_loss: 0.0058 - val_dense_21_loss: 0.0019 - val_dense_16_acc: 0.2724 - val_dense_17_acc: 0.2468 - val_dense_18_acc: 0.7360 - val_dense_19_acc: 0.9632 - val_dense_20_acc: 0.9996 - val_dense_21_acc: 0.9999\n",
      "Epoch 6/20\n",
      "25051/25051 [==============================] - 139s - loss: 28.5247 - dense_16_loss: 11.6763 - dense_17_loss: 11.9739 - dense_18_loss: 4.2787 - dense_19_loss: 0.5919 - dense_20_loss: 0.0039 - dense_21_loss: 1.1921e-07 - dense_16_acc: 0.2748 - dense_17_acc: 0.2571 - dense_18_acc: 0.7345 - dense_19_acc: 0.9633 - dense_20_acc: 0.9998 - dense_21_acc: 1.0000 - val_loss: 29.1085 - val_dense_16_loss: 12.1122 - val_dense_17_loss: 12.1402 - val_dense_18_loss: 4.2558 - val_dense_19_loss: 0.5925 - val_dense_20_loss: 0.0058 - val_dense_21_loss: 0.0019 - val_dense_16_acc: 0.2450 - val_dense_17_acc: 0.2468 - val_dense_18_acc: 0.7360 - val_dense_19_acc: 0.9632 - val_dense_20_acc: 0.9996 - val_dense_21_acc: 0.9999\n",
      "Epoch 7/20\n",
      "25051/25051 [==============================] - 140s - loss: 28.5695 - dense_16_loss: 11.7211 - dense_17_loss: 11.9739 - dense_18_loss: 4.2787 - dense_19_loss: 0.5919 - dense_20_loss: 0.0039 - dense_21_loss: 1.1921e-07 - dense_16_acc: 0.2723 - dense_17_acc: 0.2571 - dense_18_acc: 0.7345 - dense_19_acc: 0.9633 - dense_20_acc: 0.9998 - dense_21_acc: 1.0000 - val_loss: 28.7254 - val_dense_16_loss: 11.7291 - val_dense_17_loss: 12.1402 - val_dense_18_loss: 4.2558 - val_dense_19_loss: 0.5925 - val_dense_20_loss: 0.0058 - val_dense_21_loss: 0.0019 - val_dense_16_acc: 0.2723 - val_dense_17_acc: 0.2468 - val_dense_18_acc: 0.7360 - val_dense_19_acc: 0.9632 - val_dense_20_acc: 0.9996 - val_dense_21_acc: 0.9999\n",
      "Epoch 8/20\n",
      "25051/25051 [==============================] - 150s - loss: 28.4825 - dense_16_loss: 11.6342 - dense_17_loss: 11.9739 - dense_18_loss: 4.2787 - dense_19_loss: 0.5919 - dense_20_loss: 0.0039 - dense_21_loss: 1.1921e-07 - dense_16_acc: 0.2782 - dense_17_acc: 0.2571 - dense_18_acc: 0.7345 - dense_19_acc: 0.9633 - dense_20_acc: 0.9998 - dense_21_acc: 1.0000 - val_loss: 28.7254 - val_dense_16_loss: 11.7291 - val_dense_17_loss: 12.1402 - val_dense_18_loss: 4.2558 - val_dense_19_loss: 0.5925 - val_dense_20_loss: 0.0058 - val_dense_21_loss: 0.0019 - val_dense_16_acc: 0.2723 - val_dense_17_acc: 0.2468 - val_dense_18_acc: 0.7360 - val_dense_19_acc: 0.9632 - val_dense_20_acc: 0.9996 - val_dense_21_acc: 0.9999\n",
      "Epoch 9/20\n",
      "25051/25051 [==============================] - 151s - loss: 28.4819 - dense_16_loss: 11.6335 - dense_17_loss: 11.9739 - dense_18_loss: 4.2787 - dense_19_loss: 0.5919 - dense_20_loss: 0.0039 - dense_21_loss: 1.1921e-07 - dense_16_acc: 0.2782 - dense_17_acc: 0.2571 - dense_18_acc: 0.7345 - dense_19_acc: 0.9633 - dense_20_acc: 0.9998 - dense_21_acc: 1.0000 - val_loss: 28.7254 - val_dense_16_loss: 11.7291 - val_dense_17_loss: 12.1402 - val_dense_18_loss: 4.2558 - val_dense_19_loss: 0.5925 - val_dense_20_loss: 0.0058 - val_dense_21_loss: 0.0019 - val_dense_16_acc: 0.2723 - val_dense_17_acc: 0.2468 - val_dense_18_acc: 0.7360 - val_dense_19_acc: 0.9632 - val_dense_20_acc: 0.9996 - val_dense_21_acc: 0.9999\n",
      "Epoch 10/20\n",
      "25051/25051 [==============================] - 150s - loss: 28.4825 - dense_16_loss: 11.6342 - dense_17_loss: 11.9739 - dense_18_loss: 4.2787 - dense_19_loss: 0.5919 - dense_20_loss: 0.0039 - dense_21_loss: 1.1921e-07 - dense_16_acc: 0.2782 - dense_17_acc: 0.2571 - dense_18_acc: 0.7345 - dense_19_acc: 0.9633 - dense_20_acc: 0.9998 - dense_21_acc: 1.0000 - val_loss: 28.7254 - val_dense_16_loss: 11.7291 - val_dense_17_loss: 12.1402 - val_dense_18_loss: 4.2558 - val_dense_19_loss: 0.5925 - val_dense_20_loss: 0.0058 - val_dense_21_loss: 0.0019 - val_dense_16_acc: 0.2723 - val_dense_17_acc: 0.2468 - val_dense_18_acc: 0.7360 - val_dense_19_acc: 0.9632 - val_dense_20_acc: 0.9996 - val_dense_21_acc: 0.9999\n",
      "Epoch 11/20\n",
      "25051/25051 [==============================] - 150s - loss: 28.4825 - dense_16_loss: 11.6342 - dense_17_loss: 11.9739 - dense_18_loss: 4.2787 - dense_19_loss: 0.5919 - dense_20_loss: 0.0039 - dense_21_loss: 1.1921e-07 - dense_16_acc: 0.2782 - dense_17_acc: 0.2571 - dense_18_acc: 0.7345 - dense_19_acc: 0.9633 - dense_20_acc: 0.9998 - dense_21_acc: 1.0000 - val_loss: 28.7254 - val_dense_16_loss: 11.7291 - val_dense_17_loss: 12.1402 - val_dense_18_loss: 4.2558 - val_dense_19_loss: 0.5925 - val_dense_20_loss: 0.0058 - val_dense_21_loss: 0.0019 - val_dense_16_acc: 0.2723 - val_dense_17_acc: 0.2468 - val_dense_18_acc: 0.7360 - val_dense_19_acc: 0.9632 - val_dense_20_acc: 0.9996 - val_dense_21_acc: 0.9999\n",
      "Epoch 12/20\n",
      "25051/25051 [==============================] - 150s - loss: 28.4819 - dense_16_loss: 11.6335 - dense_17_loss: 11.9739 - dense_18_loss: 4.2787 - dense_19_loss: 0.5919 - dense_20_loss: 0.0039 - dense_21_loss: 1.1921e-07 - dense_16_acc: 0.2782 - dense_17_acc: 0.2571 - dense_18_acc: 0.7345 - dense_19_acc: 0.9633 - dense_20_acc: 0.9998 - dense_21_acc: 1.0000 - val_loss: 28.7254 - val_dense_16_loss: 11.7291 - val_dense_17_loss: 12.1402 - val_dense_18_loss: 4.2558 - val_dense_19_loss: 0.5925 - val_dense_20_loss: 0.0058 - val_dense_21_loss: 0.0019 - val_dense_16_acc: 0.2723 - val_dense_17_acc: 0.2468 - val_dense_18_acc: 0.7360 - val_dense_19_acc: 0.9632 - val_dense_20_acc: 0.9996 - val_dense_21_acc: 0.9999\n",
      "Epoch 13/20\n"
     ]
    },
    {
     "name": "stdout",
     "output_type": "stream",
     "text": [
      "25051/25051 [==============================] - 150s - loss: 28.4825 - dense_16_loss: 11.6342 - dense_17_loss: 11.9739 - dense_18_loss: 4.2787 - dense_19_loss: 0.5919 - dense_20_loss: 0.0039 - dense_21_loss: 1.1921e-07 - dense_16_acc: 0.2782 - dense_17_acc: 0.2571 - dense_18_acc: 0.7345 - dense_19_acc: 0.9633 - dense_20_acc: 0.9998 - dense_21_acc: 1.0000 - val_loss: 28.7254 - val_dense_16_loss: 11.7291 - val_dense_17_loss: 12.1402 - val_dense_18_loss: 4.2558 - val_dense_19_loss: 0.5925 - val_dense_20_loss: 0.0058 - val_dense_21_loss: 0.0019 - val_dense_16_acc: 0.2723 - val_dense_17_acc: 0.2468 - val_dense_18_acc: 0.7360 - val_dense_19_acc: 0.9632 - val_dense_20_acc: 0.9996 - val_dense_21_acc: 0.9999\n",
      "Epoch 14/20\n",
      "25051/25051 [==============================] - 146s - loss: 28.4627 - dense_16_loss: 11.6143 - dense_17_loss: 11.9739 - dense_18_loss: 4.2787 - dense_19_loss: 0.5919 - dense_20_loss: 0.0039 - dense_21_loss: 1.1921e-07 - dense_16_acc: 0.2789 - dense_17_acc: 0.2571 - dense_18_acc: 0.7345 - dense_19_acc: 0.9633 - dense_20_acc: 0.9998 - dense_21_acc: 1.0000 - val_loss: 28.7084 - val_dense_16_loss: 11.7121 - val_dense_17_loss: 12.1402 - val_dense_18_loss: 4.2558 - val_dense_19_loss: 0.5925 - val_dense_20_loss: 0.0058 - val_dense_21_loss: 0.0019 - val_dense_16_acc: 0.2733 - val_dense_17_acc: 0.2468 - val_dense_18_acc: 0.7360 - val_dense_19_acc: 0.9632 - val_dense_20_acc: 0.9996 - val_dense_21_acc: 0.9999\n",
      "Epoch 15/20\n",
      "25051/25051 [==============================] - 139s - loss: 28.4256 - dense_16_loss: 11.5772 - dense_17_loss: 11.9739 - dense_18_loss: 4.2787 - dense_19_loss: 0.5919 - dense_20_loss: 0.0039 - dense_21_loss: 1.1921e-07 - dense_16_acc: 0.2800 - dense_17_acc: 0.2571 - dense_18_acc: 0.7345 - dense_19_acc: 0.9633 - dense_20_acc: 0.9998 - dense_21_acc: 1.0000 - val_loss: 28.7215 - val_dense_16_loss: 11.7252 - val_dense_17_loss: 12.1402 - val_dense_18_loss: 4.2558 - val_dense_19_loss: 0.5925 - val_dense_20_loss: 0.0058 - val_dense_21_loss: 0.0019 - val_dense_16_acc: 0.2725 - val_dense_17_acc: 0.2468 - val_dense_18_acc: 0.7360 - val_dense_19_acc: 0.9632 - val_dense_20_acc: 0.9996 - val_dense_21_acc: 0.9999\n",
      "Epoch 16/20\n",
      "25051/25051 [==============================] - 145s - loss: 28.4787 - dense_16_loss: 11.6303 - dense_17_loss: 11.9739 - dense_18_loss: 4.2787 - dense_19_loss: 0.5919 - dense_20_loss: 0.0039 - dense_21_loss: 1.1921e-07 - dense_16_acc: 0.2784 - dense_17_acc: 0.2571 - dense_18_acc: 0.7345 - dense_19_acc: 0.9633 - dense_20_acc: 0.9998 - dense_21_acc: 1.0000 - val_loss: 28.7215 - val_dense_16_loss: 11.7252 - val_dense_17_loss: 12.1402 - val_dense_18_loss: 4.2558 - val_dense_19_loss: 0.5925 - val_dense_20_loss: 0.0058 - val_dense_21_loss: 0.0019 - val_dense_16_acc: 0.2725 - val_dense_17_acc: 0.2468 - val_dense_18_acc: 0.7360 - val_dense_19_acc: 0.9632 - val_dense_20_acc: 0.9996 - val_dense_21_acc: 0.9999\n",
      "Epoch 17/20\n",
      "25051/25051 [==============================] - 142s - loss: 28.4886 - dense_16_loss: 11.6403 - dense_17_loss: 11.9739 - dense_18_loss: 4.2787 - dense_19_loss: 0.5919 - dense_20_loss: 0.0039 - dense_21_loss: 1.1921e-07 - dense_16_acc: 0.2769 - dense_17_acc: 0.2571 - dense_18_acc: 0.7345 - dense_19_acc: 0.9633 - dense_20_acc: 0.9998 - dense_21_acc: 1.0000 - val_loss: 28.6969 - val_dense_16_loss: 11.7006 - val_dense_17_loss: 12.1402 - val_dense_18_loss: 4.2558 - val_dense_19_loss: 0.5925 - val_dense_20_loss: 0.0058 - val_dense_21_loss: 0.0019 - val_dense_16_acc: 0.2737 - val_dense_17_acc: 0.2468 - val_dense_18_acc: 0.7360 - val_dense_19_acc: 0.9632 - val_dense_20_acc: 0.9996 - val_dense_21_acc: 0.9999\n",
      "Epoch 18/20\n",
      "25051/25051 [==============================] - 142s - loss: 28.4746 - dense_16_loss: 11.6263 - dense_17_loss: 11.9739 - dense_18_loss: 4.2787 - dense_19_loss: 0.5919 - dense_20_loss: 0.0039 - dense_21_loss: 1.1921e-07 - dense_16_acc: 0.2787 - dense_17_acc: 0.2571 - dense_18_acc: 0.7345 - dense_19_acc: 0.9633 - dense_20_acc: 0.9998 - dense_21_acc: 1.0000 - val_loss: 28.7234 - val_dense_16_loss: 11.7272 - val_dense_17_loss: 12.1402 - val_dense_18_loss: 4.2558 - val_dense_19_loss: 0.5925 - val_dense_20_loss: 0.0058 - val_dense_21_loss: 0.0019 - val_dense_16_acc: 0.2724 - val_dense_17_acc: 0.2468 - val_dense_18_acc: 0.7360 - val_dense_19_acc: 0.9632 - val_dense_20_acc: 0.9996 - val_dense_21_acc: 0.9999\n",
      "Epoch 19/20\n",
      "25051/25051 [==============================] - 149s - loss: 28.4825 - dense_16_loss: 11.6342 - dense_17_loss: 11.9739 - dense_18_loss: 4.2787 - dense_19_loss: 0.5919 - dense_20_loss: 0.0039 - dense_21_loss: 1.1921e-07 - dense_16_acc: 0.2782 - dense_17_acc: 0.2571 - dense_18_acc: 0.7345 - dense_19_acc: 0.9633 - dense_20_acc: 0.9998 - dense_21_acc: 1.0000 - val_loss: 28.7234 - val_dense_16_loss: 11.7272 - val_dense_17_loss: 12.1402 - val_dense_18_loss: 4.2558 - val_dense_19_loss: 0.5925 - val_dense_20_loss: 0.0058 - val_dense_21_loss: 0.0019 - val_dense_16_acc: 0.2724 - val_dense_17_acc: 0.2468 - val_dense_18_acc: 0.7360 - val_dense_19_acc: 0.9632 - val_dense_20_acc: 0.9996 - val_dense_21_acc: 0.9999\n",
      "Epoch 20/20\n",
      "25051/25051 [==============================] - 150s - loss: 28.4825 - dense_16_loss: 11.6342 - dense_17_loss: 11.9739 - dense_18_loss: 4.2787 - dense_19_loss: 0.5919 - dense_20_loss: 0.0039 - dense_21_loss: 1.1921e-07 - dense_16_acc: 0.2782 - dense_17_acc: 0.2571 - dense_18_acc: 0.7345 - dense_19_acc: 0.9633 - dense_20_acc: 0.9998 - dense_21_acc: 1.0000 - val_loss: 28.7234 - val_dense_16_loss: 11.7272 - val_dense_17_loss: 12.1402 - val_dense_18_loss: 4.2558 - val_dense_19_loss: 0.5925 - val_dense_20_loss: 0.0058 - val_dense_21_loss: 0.0019 - val_dense_16_acc: 0.2724 - val_dense_17_acc: 0.2468 - val_dense_18_acc: 0.7360 - val_dense_19_acc: 0.9632 - val_dense_20_acc: 0.9996 - val_dense_21_acc: 0.9999\n"
     ]
    },
    {
     "data": {
      "text/plain": [
       "<keras.callbacks.History at 0x7f158ee4bc88>"
      ]
     },
     "execution_count": 19,
     "metadata": {},
     "output_type": "execute_result"
    }
   ],
   "source": [
    "model.compile(optimizer='rmsprop', loss='categorical_crossentropy', metrics=['accuracy'])\n",
    "\n",
    "from keras.callbacks import ModelCheckpoint\n",
    "\n",
    "epochs     = 20\n",
    "time_now   = datetime.now().strftime(\"%Y%m%d_%H%M%S\")\n",
    "model_path = os.path.join('models', 'model_multi_ModelAPI_' + str(epochs) + 'epochs_' + time_now +'.hdf5')\n",
    "\n",
    "print(\"MODEL FILE: {}\".format(model_path))\n",
    "\n",
    "checkpointer = ModelCheckpoint(filepath=model_path, \n",
    "                               verbose=1, save_best_only=True, monitor='acc',)\n",
    "\n",
    "model.fit(features, targets,\n",
    "          validation_split=0.25,\n",
    "          epochs=epochs, \n",
    "          batch_size=32, \n",
    "          callbacks=[checkpointer], \n",
    "          verbose=1)\n"
   ]
  },
  {
   "cell_type": "code",
   "execution_count": 29,
   "metadata": {},
   "outputs": [
    {
     "name": "stdout",
     "output_type": "stream",
     "text": [
      "PREDICTION0: [  1.  10.  10.  10.  10.  10.]\n",
      "PREDICTION1: [  1.  10.  10.  10.  10.  10.]\n",
      "PREDICTION2: [  1.  10.  10.  10.  10.  10.]\n",
      "PREDICTION3: [  1.  10.  10.  10.  10.  10.]\n",
      "PREDICTION4: [  1.  10.  10.  10.  10.  10.]\n",
      "LABEL0: [  1.   9.  10.  10.  10.  10.]\n",
      "LABEL1: [  2.   3.  10.  10.  10.  10.]\n",
      "LABEL2: [  2.   5.  10.  10.  10.  10.]\n",
      "LABEL3: [  9.   3.  10.  10.  10.  10.]\n",
      "LABEL4: [  3.   1.  10.  10.  10.  10.]\n"
     ]
    },
    {
     "data": {
      "image/png": "[encoded data removed]",
      "text/plain": [
       "<matplotlib.figure.Figure at 0x7f15790c64a8>"
      ]
     },
     "metadata": {},
     "output_type": "display_data"
    },
    {
     "data": {
      "image/png": "[encoded data removed]",
      "text/plain": [
       "<matplotlib.figure.Figure at 0x7f1579082160>"
      ]
     },
     "metadata": {},
     "output_type": "display_data"
    },
    {
     "data": {
      "image/png": "[encoded data removed]",
      "text/plain": [
       "<matplotlib.figure.Figure at 0x7f157908d978>"
      ]
     },
     "metadata": {},
     "output_type": "display_data"
    },
    {
     "data": {
      "image/png": "[encoded data removed]",
      "text/plain": [
       "<matplotlib.figure.Figure at 0x7f157906e438>"
      ]
     },
     "metadata": {},
     "output_type": "display_data"
    },
    {
     "data": {
      "image/png": "[encoded data removed]",
      "text/plain": [
       "<matplotlib.figure.Figure at 0x7f1579076fd0>"
      ]
     },
     "metadata": {},
     "output_type": "display_data"
    }
   ],
   "source": [
    "# TESTING\n",
    "\n",
    "def predict(model, array):\n",
    "    y_pred = model.predict(array)\n",
    "    y_pred = np.array(y_pred)\n",
    "\n",
    "    entries = [y_pred[:, i, :] for i in range(y_pred.shape[1])]\n",
    "    \n",
    "    all_digits = []\n",
    "    for entry in entries:\n",
    "        \n",
    "        entry_digits = []\n",
    "        for digit in entry:\n",
    "            entry_digits.append(np.argmax(digit))\n",
    "\n",
    "        all_digits.append(entry_digits)\n",
    "   \n",
    "    return np.array(all_digits).astype('float64')\n",
    "    \n",
    "test_set    = resized_images[:5]\n",
    "predictions = predict(model, test_set)\n",
    "\n",
    "for i, prediction in enumerate(predictions):\n",
    "    print(\"PREDICTION{}: {}\".format(i, prediction))\n",
    "\n",
    "for i, num in enumerate(test_set):\n",
    "    print(\"LABEL{}: {}\".format(i, padded_labels[i]))\n",
    "\n",
    "for img in test_set:\n",
    "    fig,ax  = plt.subplots(1)\n",
    "    ax.imshow(img)"
   ]
  },
  {
   "cell_type": "code",
   "execution_count": 21,
   "metadata": {},
   "outputs": [],
   "source": [
    "\n",
    "def get_accuracy(predictions, labels):\n",
    "    correct = 0\n",
    "    for i, pred in enumerate(predictions):\n",
    "        pred_str  = \"\".join([str(p) for p in pred if p != 10])\n",
    "        label_str = \"\".join([str(int(j)) for j in labels[i]])\n",
    "        #print(pred_str, label_str)\n",
    "        if pred_str == label_str:\n",
    "            correct += 1\n",
    "    return (correct*1.0) / len(predictions)"
   ]
  },
  {
   "cell_type": "code",
   "execution_count": 22,
   "metadata": {},
   "outputs": [],
   "source": [
    "# Testing\n",
    "test_features = np.load(os.path.join(data_dir, 'test_picture_features.npy'))\n",
    "test_labels   = np.load(os.path.join(data_dir, 'test_picture_labels.npy'))"
   ]
  },
  {
   "cell_type": "code",
   "execution_count": 23,
   "metadata": {},
   "outputs": [],
   "source": [
    "resized_test_images = resize_32x32(test_features)"
   ]
  },
  {
   "cell_type": "code",
   "execution_count": 24,
   "metadata": {},
   "outputs": [],
   "source": [
    "test_predictions = predict(model, resized_test_images)"
   ]
  },
  {
   "cell_type": "code",
   "execution_count": 25,
   "metadata": {},
   "outputs": [
    {
     "name": "stdout",
     "output_type": "stream",
     "text": [
      "Accuracy: 0.0\n"
     ]
    }
   ],
   "source": [
    "print(\"Accuracy: {}\".format(get_accuracy(test_predictions, test_labels)*100))"
   ]
  },
  {
   "cell_type": "code",
   "execution_count": null,
   "metadata": {},
   "outputs": [],
   "source": []
  }
 ],
 "metadata": {
  "kernelspec": {
   "display_name": "Python 3",
   "language": "python",
   "name": "python3"
  },
  "language_info": {
   "codemirror_mode": {
    "name": "ipython",
    "version": 3
   },
   "file_extension": ".py",
   "mimetype": "text/x-python",
   "name": "python",
   "nbconvert_exporter": "python",
   "pygments_lexer": "ipython3",
   "version": "3.5.2"
  }
 },
 "nbformat": 4,
 "nbformat_minor": 2
}
