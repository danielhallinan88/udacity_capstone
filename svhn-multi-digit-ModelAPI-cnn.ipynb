{
 "cells": [
  {
   "cell_type": "code",
   "execution_count": 1,
   "metadata": {},
   "outputs": [
    {
     "name": "stderr",
     "output_type": "stream",
     "text": [
      "Using TensorFlow backend.\n"
     ]
    }
   ],
   "source": [
    "from keras.layers import Conv1D, Conv2D, MaxPooling1D, MaxPooling2D, GlobalAveragePooling2D\n",
    "from keras.layers import Dropout, Flatten, Dense, Activation, Reshape, Input, Embedding, LSTM, Concatenate\n",
    "from keras.layers.normalization import BatchNormalization\n",
    "from keras.models import Sequential, Model, load_model\n",
    "from keras.utils  import to_categorical\n",
    "from datetime     import datetime\n",
    "import matplotlib.pyplot as plt\n",
    "import numpy as np\n",
    "import cv2\n",
    "import os"
   ]
  },
  {
   "cell_type": "code",
   "execution_count": 2,
   "metadata": {},
   "outputs": [
    {
     "name": "stdout",
     "output_type": "stream",
     "text": [
      "Features: (33402,)\n",
      "Labels (33402,)\n"
     ]
    }
   ],
   "source": [
    "data_dir = 'numpy_arrays'\n",
    "X  = 'train_picture_features.npy'\n",
    "y  = 'train_picture_labels.npy'\n",
    "\n",
    "train_features = np.load(os.path.join(data_dir, X))\n",
    "train_labels   = np.load(os.path.join(data_dir, y))\n",
    "\n",
    "print(\"Features:\",train_features.shape)\n",
    "print(\"Labels\", train_labels.shape)"
   ]
  },
  {
   "cell_type": "code",
   "execution_count": 3,
   "metadata": {},
   "outputs": [
    {
     "name": "stdout",
     "output_type": "stream",
     "text": [
      "(33402, 32, 32, 3)\n",
      "<class 'numpy.ndarray'>\n"
     ]
    }
   ],
   "source": [
    "# Preprocessing features\n",
    "from skimage.transform import resize\n",
    "\n",
    "%matplotlib inline\n",
    "\n",
    "def resize_images(arrays, side_length):\n",
    "    \n",
    "    array_count = arrays.shape[0]\n",
    "    template    = np.zeros((side_length, side_length,3))\n",
    "    all_arrays = []\n",
    "    \n",
    "    for array in arrays:\n",
    "        \n",
    "        #print(array.shape)\n",
    "        height, width = array.shape[0], array.shape[1]\n",
    "        if height > width:\n",
    "            new_height = side_length\n",
    "            diff       = side_length / height\n",
    "            new_width  = width * diff\n",
    "        else:\n",
    "            new_width  = side_length\n",
    "            diff       = side_length / width\n",
    "            new_height = height * diff\n",
    "            \n",
    "            tmp            = resize(array, (int(new_height), int(new_width), 3), mode='constant')\n",
    "            top_padding    = np.zeros((int((side_length - tmp.shape[0]) / 2), side_length, 3))\n",
    "            bottom_padding = np.zeros((int(side_length - top_padding.shape[0] - tmp.shape[0]) , side_length, 3))\n",
    " \n",
    "            #print(top_padding.shape)\n",
    "            #print(tmp.shape)\n",
    "            #print(bottom_padding.shape)\n",
    "            final = np.concatenate((top_padding, tmp, bottom_padding))\n",
    "            #print(final.shape)\n",
    "        \n",
    "        all_arrays.append(final)\n",
    "    \n",
    "    return np.array(all_arrays)\n",
    "\n",
    "def crop(arrays, new_width):\n",
    "    ratio_max = 0.0\n",
    "    ratio_min = np.inf\n",
    "    \n",
    "    for i, array in enumerate(arrays):\n",
    "        print(array.shape)\n",
    "        if i > 20:\n",
    "            break\n",
    "        height, width = array.shape[0], array.shape[1]\n",
    "        ratio = height / (1.0 * width)\n",
    "        ratio_max = max(ratio_max, ratio)\n",
    "        ratio_min = min(ratio_min, ratio)\n",
    "\n",
    "    print(\"MAX: \", ratio_max)\n",
    "    print(\"MIN: \", ratio_min)\n",
    "#################################\n",
    "\n",
    "def resize_32x32(features):\n",
    "    return np.array([resize(f, (32, 32, 3), mode='constant') for f in features])\n",
    "\n",
    "def resize_32x32_grey(features):\n",
    "    return np.array([resize(f, (32, 32, 1), mode='constant') for f in features])\n",
    "\n",
    "def resize_64x64(features):\n",
    "    return np.array([resize(f, (64, 64, 3), mode='constant') for f in features])\n",
    "\n",
    "resized_images = resize_32x32(train_features)\n",
    "\n",
    "print(resized_images.shape)\n",
    "print(type(resized_images))"
   ]
  },
  {
   "cell_type": "code",
   "execution_count": 4,
   "metadata": {},
   "outputs": [
    {
     "name": "stdout",
     "output_type": "stream",
     "text": [
      "[6.0, 0.0, 1.0]\n",
      "(33402,)\n",
      "(33402,)\n",
      "MAX LENGTH: 6\n",
      "[  6.   0.   1.  10.  10.  10.]\n",
      "(33402, 6)\n",
      "[[ 0.  0.  0.  0.  0.  0.  1.  0.  0.  0.  0.]\n",
      " [ 1.  0.  0.  0.  0.  0.  0.  0.  0.  0.  0.]\n",
      " [ 0.  1.  0.  0.  0.  0.  0.  0.  0.  0.  0.]\n",
      " [ 0.  0.  0.  0.  0.  0.  0.  0.  0.  0.  1.]\n",
      " [ 0.  0.  0.  0.  0.  0.  0.  0.  0.  0.  1.]\n",
      " [ 0.  0.  0.  0.  0.  0.  0.  0.  0.  0.  1.]]\n",
      "(33402, 6, 11)\n"
     ]
    }
   ],
   "source": [
    "# Preprocessing targets\n",
    "\n",
    "def list_to_arrays(labels):\n",
    "    return np.array([np.array(label) for label in labels])\n",
    "\n",
    "def remove_val(labels, in_val, out_val):\n",
    "    for label in labels:\n",
    "        label[label == in_val] = out_val\n",
    "    \n",
    "    return labels\n",
    "    #return np.where(labels==in_val, out_val, labels) \n",
    "\n",
    "def pad_labels(train_labels):\n",
    "    print(train_labels.shape)\n",
    "    max_len = 0\n",
    "    \n",
    "    for arr in train_labels:\n",
    "        max_len = max(len(arr), max_len)\n",
    "\n",
    "    print(\"MAX LENGTH: {}\".format(max_len))\n",
    "    \n",
    "    return np.array([arr + ((max_len - len(arr)) * [10.0]) for arr in train_labels])     \n",
    "\n",
    "def one_hot_encoding(labels):\n",
    "    return np.array([ to_categorical(label, num_classes=11) for label in labels])\n",
    "\n",
    "\n",
    "train_labels[24] = [6.0, 0.0, 1.0]\n",
    "print(train_labels[24])\n",
    "print(train_labels.shape)\n",
    "\n",
    "padded_labels = pad_labels(train_labels)\n",
    "print(padded_labels[24])\n",
    "print(padded_labels.shape)\n",
    "\n",
    "encoded_labels = one_hot_encoding(padded_labels)\n",
    "print(encoded_labels[24])\n",
    "print(encoded_labels.shape)"
   ]
  },
  {
   "cell_type": "code",
   "execution_count": 5,
   "metadata": {},
   "outputs": [
    {
     "name": "stdout",
     "output_type": "stream",
     "text": [
      "(6, 33402, 11)\n"
     ]
    }
   ],
   "source": [
    "#encoded_labels[:, 6]\n",
    "tmp = [encoded_labels[:, i] for i in range(encoded_labels.shape[1])]\n",
    "type(tmp)\n",
    "\n",
    "#print(padded_labels[0])\n",
    "#print(encoded_labels[0])\n",
    "#print(padded_labels[1])\n",
    "#print(encoded_labels[1])\n",
    "\n",
    "#tmp = [label[j] for label in encoded_labels for j in range(len(label))]\n",
    "reordered_array = []\n",
    "for i in range(encoded_labels.shape[1]):\n",
    "    tmp = []\n",
    "\n",
    "    for label in encoded_labels:\n",
    "        #print(label[i])\n",
    "\n",
    "        tmp.append(label[i])\n",
    "    tmp = np.array(tmp)\n",
    "    reordered_array.append(tmp)\n",
    "reordered_array = np.array(reordered_array)\n",
    "\n",
    "print(reordered_array.shape)\n",
    "#tmp = [i for i in reordered_array]\n",
    "#print(tmp.shape)"
   ]
  },
  {
   "cell_type": "code",
   "execution_count": 6,
   "metadata": {},
   "outputs": [
    {
     "name": "stdout",
     "output_type": "stream",
     "text": [
      "INPUT SHAPE: (33402, 32, 32, 3)\n",
      "____________________________________________________________________________________________________\n",
      "Layer (type)                     Output Shape          Param #     Connected to                     \n",
      "====================================================================================================\n",
      "input_1 (InputLayer)             (None, 32, 32, 3)     0                                            \n",
      "____________________________________________________________________________________________________\n",
      "conv2d_1 (Conv2D)                (None, 32, 32, 32)    896                                          \n",
      "____________________________________________________________________________________________________\n",
      "batch_normalization_1 (BatchNorm (None, 32, 32, 32)    128                                          \n",
      "____________________________________________________________________________________________________\n",
      "max_pooling2d_1 (MaxPooling2D)   (None, 16, 16, 32)    0                                            \n",
      "____________________________________________________________________________________________________\n",
      "dropout_1 (Dropout)              (None, 16, 16, 32)    0                                            \n",
      "____________________________________________________________________________________________________\n",
      "global_average_pooling2d_1 (Glob (None, 32)            0                                            \n",
      "____________________________________________________________________________________________________\n",
      "dense_1 (Dense)                  (None, 512)           16896                                        \n",
      "____________________________________________________________________________________________________\n",
      "dense_2 (Dense)                  (None, 11)            5643                                         \n",
      "____________________________________________________________________________________________________\n",
      "dense_3 (Dense)                  (None, 11)            5643                                         \n",
      "____________________________________________________________________________________________________\n",
      "dense_4 (Dense)                  (None, 11)            5643                                         \n",
      "____________________________________________________________________________________________________\n",
      "dense_5 (Dense)                  (None, 11)            5643                                         \n",
      "____________________________________________________________________________________________________\n",
      "dense_6 (Dense)                  (None, 11)            5643                                         \n",
      "____________________________________________________________________________________________________\n",
      "dense_7 (Dense)                  (None, 11)            5643                                         \n",
      "====================================================================================================\n",
      "Total params: 51,778.0\n",
      "Trainable params: 51,714.0\n",
      "Non-trainable params: 64.0\n",
      "____________________________________________________________________________________________________\n"
     ]
    },
    {
     "name": "stderr",
     "output_type": "stream",
     "text": [
      "/usr/local/lib/python3.5/dist-packages/ipykernel_launcher.py:44: UserWarning: Update your `Model` call to the Keras 2 API: `Model(inputs=Tensor(\"in..., outputs=[<tf.Tenso...)`\n"
     ]
    }
   ],
   "source": [
    "features = resized_images\n",
    "targets = [encoded_labels[:, i] for i in range(6)]\n",
    "#targets = encoded_labels\n",
    "#targets = padded_labels\n",
    "#targets = reordered_array\n",
    "\n",
    "print(\"INPUT SHAPE: {}\".format(features.shape))\n",
    "\n",
    "inputs_ = Input(shape=(32,32,3))\n",
    "x = inputs_\n",
    "\n",
    "x = Conv2D(32, (3, 3), activation='relu', padding='same')(x)\n",
    "x = BatchNormalization()(x)\n",
    "x = MaxPooling2D(pool_size=(2, 2))(x) \n",
    "x = Dropout(0.25)(x)\n",
    "\"\"\"\n",
    "x = Conv2D(48, (3, 3), activation='relu', padding='same')(x)\n",
    "x = BatchNormalization()(x)\n",
    "x = MaxPooling2D(pool_size=(2, 2), strides=(2, 2))(x) \n",
    "x = Dropout(0.25)(x)\n",
    "\n",
    "x = Conv2D(48, (3, 3), activation='relu', padding='same')(x)\n",
    "x = BatchNormalization()(x)\n",
    "x = MaxPooling2D(pool_size=(2, 2), strides=(1, 1))(x) \n",
    "x = Dropout(0.25)(x)\n",
    "\n",
    "x = Conv2D(48, (3, 3), activation='relu', padding='same')(x)\n",
    "x = BatchNormalization()(x)\n",
    "x = MaxPooling2D(pool_size=(2, 2), strides=(1, 1))(x) \n",
    "x = Dropout(0.25)(x)\n",
    "\"\"\"\n",
    "###########################################\n",
    "x = GlobalAveragePooling2D()(x)\n",
    "#x = Flatten()(x)\n",
    "x = Dense(512, activation='relu')(x)\n",
    "\n",
    "digit1 = Dense(11, activation='softmax')(x)\n",
    "digit2 = Dense(11, activation='softmax')(x)\n",
    "digit3 = Dense(11, activation='softmax')(x)\n",
    "digit4 = Dense(11, activation='softmax')(x)\n",
    "digit5 = Dense(11, activation='softmax')(x)\n",
    "digit6 = Dense(11, activation='softmax')(x)\n",
    "\n",
    "model = Model(input=inputs_, outputs=[digit1, digit2, digit3, digit4, digit5, digit6])\n",
    "model.summary()"
   ]
  },
  {
   "cell_type": "code",
   "execution_count": 7,
   "metadata": {
    "scrolled": true
   },
   "outputs": [
    {
     "name": "stdout",
     "output_type": "stream",
     "text": [
      "MODEL FILE: models/model_multi_ModelAPI_10epochs_20190702_133400.hdf5\n",
      "Train on 25051 samples, validate on 8351 samples\n",
      "Epoch 1/10\n",
      "25051/25051 [==============================] - 81s - loss: 5.7916 - dense_2_loss: 2.0525 - dense_3_loss: 2.2255 - dense_4_loss: 1.1890 - dense_5_loss: 0.2718 - dense_6_loss: 0.0283 - dense_7_loss: 0.0246 - dense_2_acc: 0.2641 - dense_3_acc: 0.2493 - dense_4_acc: 0.7337 - dense_5_acc: 0.9621 - dense_6_acc: 0.9985 - dense_7_acc: 0.9987 - val_loss: 5.8745 - val_dense_2_loss: 2.0594 - val_dense_3_loss: 2.2690 - val_dense_4_loss: 1.2722 - val_dense_5_loss: 0.2661 - val_dense_6_loss: 0.0058 - val_dense_7_loss: 0.0019 - val_dense_2_acc: 0.2721 - val_dense_3_acc: 0.2461 - val_dense_4_acc: 0.7360 - val_dense_5_acc: 0.9632 - val_dense_6_acc: 0.9996 - val_dense_7_acc: 0.9999\n",
      "Epoch 2/10\n",
      "   64/25051 [..............................] - ETA: 70s - loss: 5.8387 - dense_2_loss: 1.9990 - dense_3_loss: 2.2164 - dense_4_loss: 1.3470 - dense_5_loss: 0.2763 - dense_6_loss: 1.1921e-07 - dense_7_loss: 1.1921e-07 - dense_2_acc: 0.2656 - dense_3_acc: 0.2188 - dense_4_acc: 0.6875 - dense_5_acc: 0.9531 - dense_6_acc: 1.0000 - dense_7_acc: 1.0000"
     ]
    },
    {
     "name": "stderr",
     "output_type": "stream",
     "text": [
      "/usr/local/lib/python3.5/dist-packages/keras/callbacks.py:388: RuntimeWarning: Can save best model only with acc available, skipping.\n",
      "  'skipping.' % (self.monitor), RuntimeWarning)\n"
     ]
    },
    {
     "name": "stdout",
     "output_type": "stream",
     "text": [
      "25051/25051 [==============================] - 81s - loss: 5.6676 - dense_2_loss: 2.0500 - dense_3_loss: 2.2178 - dense_4_loss: 1.1530 - dense_5_loss: 0.2428 - dense_6_loss: 0.0039 - dense_7_loss: 1.2588e-07 - dense_2_acc: 0.2659 - dense_3_acc: 0.2466 - dense_4_acc: 0.7345 - dense_5_acc: 0.9633 - dense_6_acc: 0.9998 - dense_7_acc: 1.0000 - val_loss: 5.7081 - val_dense_2_loss: 2.0478 - val_dense_3_loss: 2.2707 - val_dense_4_loss: 1.1454 - val_dense_5_loss: 0.2365 - val_dense_6_loss: 0.0058 - val_dense_7_loss: 0.0019 - val_dense_2_acc: 0.2711 - val_dense_3_acc: 0.1961 - val_dense_4_acc: 0.7360 - val_dense_5_acc: 0.9632 - val_dense_6_acc: 0.9996 - val_dense_7_acc: 0.9999\n",
      "Epoch 3/10\n",
      "25051/25051 [==============================] - 81s - loss: 5.7047 - dense_2_loss: 2.0650 - dense_3_loss: 2.2371 - dense_4_loss: 1.1576 - dense_5_loss: 0.2411 - dense_6_loss: 0.0039 - dense_7_loss: 1.4918e-07 - dense_2_acc: 0.2635 - dense_3_acc: 0.2368 - dense_4_acc: 0.7334 - dense_5_acc: 0.9633 - dense_6_acc: 0.9998 - dense_7_acc: 1.0000 - val_loss: 5.9465 - val_dense_2_loss: 2.1690 - val_dense_3_loss: 2.2616 - val_dense_4_loss: 1.2401 - val_dense_5_loss: 0.2681 - val_dense_6_loss: 0.0058 - val_dense_7_loss: 0.0019 - val_dense_2_acc: 0.1988 - val_dense_3_acc: 0.2267 - val_dense_4_acc: 0.7360 - val_dense_5_acc: 0.9632 - val_dense_6_acc: 0.9996 - val_dense_7_acc: 0.9999\n",
      "Epoch 4/10\n",
      "25051/25051 [==============================] - 82s - loss: 5.8459 - dense_2_loss: 2.1151 - dense_3_loss: 2.2876 - dense_4_loss: 1.1894 - dense_5_loss: 0.2500 - dense_6_loss: 0.0039 - dense_7_loss: 1.8744e-07 - dense_2_acc: 0.2497 - dense_3_acc: 0.2263 - dense_4_acc: 0.7257 - dense_5_acc: 0.9623 - dense_6_acc: 0.9998 - dense_7_acc: 1.0000 - val_loss: 6.0315 - val_dense_2_loss: 2.1954 - val_dense_3_loss: 2.2432 - val_dense_4_loss: 1.3162 - val_dense_5_loss: 0.2689 - val_dense_6_loss: 0.0058 - val_dense_7_loss: 0.0019 - val_dense_2_acc: 0.1782 - val_dense_3_acc: 0.2375 - val_dense_4_acc: 0.6684 - val_dense_5_acc: 0.9632 - val_dense_6_acc: 0.9996 - val_dense_7_acc: 0.9999\n",
      "Epoch 5/10\n",
      "25051/25051 [==============================] - 82s - loss: 6.2240 - dense_2_loss: 2.2371 - dense_3_loss: 2.4136 - dense_4_loss: 1.2879 - dense_5_loss: 0.2816 - dense_6_loss: 0.0039 - dense_7_loss: 2.1573e-07 - dense_2_acc: 0.2396 - dense_3_acc: 0.2173 - dense_4_acc: 0.7076 - dense_5_acc: 0.9587 - dense_6_acc: 0.9998 - dense_7_acc: 1.0000 - val_loss: 6.1223 - val_dense_2_loss: 2.2707 - val_dense_3_loss: 2.3548 - val_dense_4_loss: 1.2277 - val_dense_5_loss: 0.2613 - val_dense_6_loss: 0.0058 - val_dense_7_loss: 0.0019 - val_dense_2_acc: 0.2272 - val_dense_3_acc: 0.2462 - val_dense_4_acc: 0.7318 - val_dense_5_acc: 0.9632 - val_dense_6_acc: 0.9996 - val_dense_7_acc: 0.9999\n",
      "Epoch 6/10\n",
      "25051/25051 [==============================] - 82s - loss: 7.0033 - dense_2_loss: 2.4921 - dense_3_loss: 2.6596 - dense_4_loss: 1.4921 - dense_5_loss: 0.3557 - dense_6_loss: 0.0039 - dense_7_loss: 3.5039e-07 - dense_2_acc: 0.2259 - dense_3_acc: 0.2079 - dense_4_acc: 0.6850 - dense_5_acc: 0.9537 - dense_6_acc: 0.9998 - dense_7_acc: 1.0000 - val_loss: 7.3627 - val_dense_2_loss: 2.8479 - val_dense_3_loss: 2.6047 - val_dense_4_loss: 1.5037 - val_dense_5_loss: 0.3986 - val_dense_6_loss: 0.0058 - val_dense_7_loss: 0.0019 - val_dense_2_acc: 0.1596 - val_dense_3_acc: 0.1948 - val_dense_4_acc: 0.7358 - val_dense_5_acc: 0.9632 - val_dense_6_acc: 0.9996 - val_dense_7_acc: 0.9999\n",
      "Epoch 7/10\n",
      "25051/25051 [==============================] - 82s - loss: 8.2135 - dense_2_loss: 2.8677 - dense_3_loss: 3.1051 - dense_4_loss: 1.8168 - dense_5_loss: 0.4201 - dense_6_loss: 0.0039 - dense_7_loss: 6.6927e-07 - dense_2_acc: 0.2174 - dense_3_acc: 0.1973 - dense_4_acc: 0.6686 - dense_5_acc: 0.9550 - dense_6_acc: 0.9998 - dense_7_acc: 1.0000 - val_loss: 11.4786 - val_dense_2_loss: 3.3089 - val_dense_3_loss: 3.4094 - val_dense_4_loss: 4.1729 - val_dense_5_loss: 0.5797 - val_dense_6_loss: 0.0058 - val_dense_7_loss: 0.0019 - val_dense_2_acc: 0.2045 - val_dense_3_acc: 0.1373 - val_dense_4_acc: 0.2797 - val_dense_5_acc: 0.9279 - val_dense_6_acc: 0.9996 - val_dense_7_acc: 0.9999\n",
      "Epoch 8/10\n",
      "25051/25051 [==============================] - 82s - loss: 9.9287 - dense_2_loss: 3.4696 - dense_3_loss: 3.7221 - dense_4_loss: 2.2809 - dense_5_loss: 0.4523 - dense_6_loss: 0.0039 - dense_7_loss: 4.8306e-07 - dense_2_acc: 0.2119 - dense_3_acc: 0.1953 - dense_4_acc: 0.6670 - dense_5_acc: 0.9620 - dense_6_acc: 0.9998 - dense_7_acc: 1.0000 - val_loss: 8.9883 - val_dense_2_loss: 3.0159 - val_dense_3_loss: 3.3084 - val_dense_4_loss: 2.1796 - val_dense_5_loss: 0.4766 - val_dense_6_loss: 0.0058 - val_dense_7_loss: 0.0019 - val_dense_2_acc: 0.1862 - val_dense_3_acc: 0.1530 - val_dense_4_acc: 0.5043 - val_dense_5_acc: 0.9631 - val_dense_6_acc: 0.9996 - val_dense_7_acc: 0.9999\n",
      "Epoch 9/10\n",
      "25051/25051 [==============================] - 82s - loss: 11.3179 - dense_2_loss: 4.0082 - dense_3_loss: 4.2823 - dense_4_loss: 2.5459 - dense_5_loss: 0.4775 - dense_6_loss: 0.0039 - dense_7_loss: 2.8629e-07 - dense_2_acc: 0.2164 - dense_3_acc: 0.1949 - dense_4_acc: 0.6778 - dense_5_acc: 0.9633 - dense_6_acc: 0.9998 - dense_7_acc: 1.0000 - val_loss: 11.5312 - val_dense_2_loss: 4.0810 - val_dense_3_loss: 4.4010 - val_dense_4_loss: 2.5562 - val_dense_5_loss: 0.4853 - val_dense_6_loss: 0.0058 - val_dense_7_loss: 0.0019 - val_dense_2_acc: 0.1656 - val_dense_3_acc: 0.2448 - val_dense_4_acc: 0.7354 - val_dense_5_acc: 0.9632 - val_dense_6_acc: 0.9996 - val_dense_7_acc: 0.9999\n",
      "Epoch 10/10\n",
      "25051/25051 [==============================] - 82s - loss: 11.7890 - dense_2_loss: 4.1922 - dense_3_loss: 4.5641 - dense_4_loss: 2.5644 - dense_5_loss: 0.4646 - dense_6_loss: 0.0039 - dense_7_loss: 1.5926e-07 - dense_2_acc: 0.2194 - dense_3_acc: 0.1992 - dense_4_acc: 0.6863 - dense_5_acc: 0.9633 - dense_6_acc: 0.9998 - dense_7_acc: 1.0000 - val_loss: 10.4594 - val_dense_2_loss: 3.8480 - val_dense_3_loss: 3.7311 - val_dense_4_loss: 2.4222 - val_dense_5_loss: 0.4504 - val_dense_6_loss: 0.0058 - val_dense_7_loss: 0.0019 - val_dense_2_acc: 0.2261 - val_dense_3_acc: 0.2391 - val_dense_4_acc: 0.7345 - val_dense_5_acc: 0.9632 - val_dense_6_acc: 0.9996 - val_dense_7_acc: 0.9999\n"
     ]
    },
    {
     "data": {
      "text/plain": [
       "<keras.callbacks.History at 0x7f1a36134dd8>"
      ]
     },
     "execution_count": 7,
     "metadata": {},
     "output_type": "execute_result"
    }
   ],
   "source": [
    "model.compile(optimizer='rmsprop', loss='categorical_crossentropy', metrics=['accuracy'])\n",
    "\n",
    "from keras.callbacks import ModelCheckpoint\n",
    "\n",
    "epochs     = 10\n",
    "time_now   = datetime.now().strftime(\"%Y%m%d_%H%M%S\")\n",
    "model_path = os.path.join('models', 'model_multi_ModelAPI_' + str(epochs) + 'epochs_' + time_now +'.hdf5')\n",
    "\n",
    "print(\"MODEL FILE: {}\".format(model_path))\n",
    "\n",
    "checkpointer = ModelCheckpoint(filepath=model_path, \n",
    "                               verbose=1, save_best_only=True, monitor='acc',)\n",
    "\n",
    "model.fit(features, targets,\n",
    "          validation_split=0.25,\n",
    "          epochs=epochs, \n",
    "          batch_size=32, \n",
    "          callbacks=[checkpointer], \n",
    "          verbose=1)\n"
   ]
  },
  {
   "cell_type": "code",
   "execution_count": 8,
   "metadata": {},
   "outputs": [
    {
     "name": "stdout",
     "output_type": "stream",
     "text": [
      "PREDICTION0: [  2.   1.  10.  10.  10.  10.]\n",
      "PREDICTION1: [  2.  10.  10.  10.  10.  10.]\n",
      "PREDICTION2: [  2.  10.  10.  10.  10.  10.]\n",
      "PREDICTION3: [  2.  10.  10.  10.  10.  10.]\n",
      "PREDICTION4: [  1.  10.  10.  10.  10.  10.]\n",
      "LABEL0: [  1.   9.  10.  10.  10.  10.]\n",
      "LABEL1: [  2.   3.  10.  10.  10.  10.]\n",
      "LABEL2: [  2.   5.  10.  10.  10.  10.]\n",
      "LABEL3: [  9.   3.  10.  10.  10.  10.]\n",
      "LABEL4: [  3.   1.  10.  10.  10.  10.]\n"
     ]
    },
    {
     "data": {
      "image/png": "[encoded data removed]",
      "text/plain": [
       "<matplotlib.figure.Figure at 0x7f1a35fae710>"
      ]
     },
     "metadata": {},
     "output_type": "display_data"
    },
    {
     "data": {
      "image/png": "[encoded data removed]",
      "text/plain": [
       "<matplotlib.figure.Figure at 0x7f1ab17b4588>"
      ]
     },
     "metadata": {},
     "output_type": "display_data"
    },
    {
     "data": {
      "image/png": "[encoded data removed]",
      "text/plain": [
       "<matplotlib.figure.Figure at 0x7f1a34730358>"
      ]
     },
     "metadata": {},
     "output_type": "display_data"
    },
    {
     "data": {
      "image/png": "[encoded data removed]",
      "text/plain": [
       "<matplotlib.figure.Figure at 0x7f1a346e2160>"
      ]
     },
     "metadata": {},
     "output_type": "display_data"
    },
    {
     "data": {
      "image/png": "[encoded data removed]",
      "text/plain": [
       "<matplotlib.figure.Figure at 0x7f1a3469b7f0>"
      ]
     },
     "metadata": {},
     "output_type": "display_data"
    }
   ],
   "source": [
    "# TESTING\n",
    "\n",
    "def predict(model, array):\n",
    "    y_pred = model.predict(array)\n",
    "    y_pred = np.array(y_pred)\n",
    "\n",
    "    entries = [y_pred[:, i, :] for i in range(y_pred.shape[1])]\n",
    "    \n",
    "    all_digits = []\n",
    "    for entry in entries:\n",
    "        \n",
    "        entry_digits = []\n",
    "        for digit in entry:\n",
    "            entry_digits.append(np.argmax(digit))\n",
    "\n",
    "        all_digits.append(entry_digits)\n",
    "   \n",
    "    return np.array(all_digits).astype('float64')\n",
    "    \n",
    "test_set    = resized_images[:5]\n",
    "predictions = predict(model, test_set)\n",
    "\n",
    "for i, prediction in enumerate(predictions):\n",
    "    print(\"PREDICTION{}: {}\".format(i, prediction))\n",
    "\n",
    "for i, num in enumerate(test_set):\n",
    "    print(\"LABEL{}: {}\".format(i, padded_labels[i]))\n",
    "\n",
    "for img in test_set:\n",
    "    fig,ax  = plt.subplots(1)\n",
    "    ax.imshow(img)"
   ]
  },
  {
   "cell_type": "code",
   "execution_count": 9,
   "metadata": {},
   "outputs": [],
   "source": [
    "\n",
    "def get_accuracy(predictions, labels):\n",
    "    correct = 0\n",
    "    for i, pred in enumerate(predictions):\n",
    "        pred_str  = \"\".join([str(p) for p in pred if p != 10])\n",
    "        label_str = \"\".join([str(int(j)) for j in labels[i]])\n",
    "        #print(pred_str, label_str)\n",
    "        if pred_str == label_str:\n",
    "            correct += 1\n",
    "    return (correct*1.0) / len(predictions)"
   ]
  },
  {
   "cell_type": "code",
   "execution_count": 10,
   "metadata": {},
   "outputs": [],
   "source": [
    "# Testing\n",
    "test_features = np.load(os.path.join(data_dir, 'test_picture_features.npy'))\n",
    "test_labels   = np.load(os.path.join(data_dir, 'test_picture_labels.npy'))"
   ]
  },
  {
   "cell_type": "code",
   "execution_count": 11,
   "metadata": {},
   "outputs": [],
   "source": [
    "resized_test_images = resize_32x32(test_features)"
   ]
  },
  {
   "cell_type": "code",
   "execution_count": 12,
   "metadata": {},
   "outputs": [],
   "source": [
    "test_predictions = predict(model, resized_test_images)"
   ]
  },
  {
   "cell_type": "code",
   "execution_count": 13,
   "metadata": {},
   "outputs": [
    {
     "name": "stdout",
     "output_type": "stream",
     "text": [
      "Accuracy: 0.0\n"
     ]
    }
   ],
   "source": [
    "print(\"Accuracy: {}\".format(get_accuracy(test_predictions, test_labels)*100))"
   ]
  },
  {
   "cell_type": "code",
   "execution_count": 26,
   "metadata": {},
   "outputs": [
    {
     "name": "stdout",
     "output_type": "stream",
     "text": [
      "[  2.  10.  10.  10.  10.  10.]\n",
      "[3.0, 4.0]\n"
     ]
    }
   ],
   "source": [
    "sample = 10\n",
    "print(test_predictions[sample])\n",
    "print(test_labels[sample])"
   ]
  },
  {
   "cell_type": "code",
   "execution_count": 24,
   "metadata": {},
   "outputs": [
    {
     "data": {
      "image/png": "[encoded data removed]",
      "text/plain": [
       "<matplotlib.figure.Figure at 0x7f1a346e65f8>"
      ]
     },
     "metadata": {},
     "output_type": "display_data"
    }
   ],
   "source": [
    "%matplotlib inline\n",
    "plt.figure(figsize=(14, 7))\n",
    "\n",
    "plt.plot(model.history.history['val_dense_2_acc'], label='First digit')\n",
    "plt.plot(model.history.history['val_dense_3_acc'], label='Second digit')\n",
    "plt.plot(model.history.history['val_dense_4_acc'], label='Third digit')\n",
    "plt.plot(model.history.history['val_dense_5_acc'], label='Fourth digit')\n",
    "plt.plot(model.history.history['val_dense_6_acc'], label='Fifth digit')\n",
    "plt.plot(model.history.history['val_dense_7_acc'], label='Sixth digit')\n",
    "\n",
    "plt.legend()\n",
    "plt.title('Accuracy')\n",
    "plt.show()"
   ]
  },
  {
   "cell_type": "code",
   "execution_count": null,
   "metadata": {},
   "outputs": [],
   "source": []
  }
 ],
 "metadata": {
  "kernelspec": {
   "display_name": "Python 3",
   "language": "python",
   "name": "python3"
  },
  "language_info": {
   "codemirror_mode": {
    "name": "ipython",
    "version": 3
   },
   "file_extension": ".py",
   "mimetype": "text/x-python",
   "name": "python",
   "nbconvert_exporter": "python",
   "pygments_lexer": "ipython3",
   "version": "3.5.2"
  }
 },
 "nbformat": 4,
 "nbformat_minor": 2
}
